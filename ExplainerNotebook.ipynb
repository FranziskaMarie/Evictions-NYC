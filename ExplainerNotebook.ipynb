{
 "cells": [
  {
   "cell_type": "markdown",
   "id": "b871cca4",
   "metadata": {},
   "source": [
    "# Evictions in NYC - Explainer notebook"
   ]
  },
  {
   "cell_type": "markdown",
   "id": "6be5b685",
   "metadata": {},
   "source": [
    "## Table of contents\n",
    "\n",
    "1. [Motivation](#motivation)\n",
    "2. [Basic stats](#basicstats) \\\n",
    "    a. [Importing packages](#packages) \\\n",
    "    b. [Data cleaning/preprocessing and Exploratory Data Analysis](#datacleaning) \n",
    "3. [Data Analysis](#dataanalysis) \\\n",
    "    a. [Development over the years](#development) \\\n",
    "    b. [Marhals that performed most evictions](#marshals) \\\n",
    "    c. [Residential vs Commercial](#residentialvscommercial) \\\n",
    "    d. [Boroughs with most evictions](#boroughs) \\\n",
    "    e. [Map with evictions and hotspot areas](#evictionsMap) \\\n",
    "    f. [Insights about housing data](#housing) \\\n",
    "    g. [Insights about economic data](#economic) \\\n",
    "    h. [Insights about demographic data](#demographic) \\\n",
    "    i. [Interactive map with ACS data](#acsmap)\n",
    "4. [Genre](#genre)\n",
    "5. [Visualizations](#visualizations)\n",
    "6. [Discussion](#discussion)\n",
    "7. [Contributions](#contributions)\n",
    "8. [References](#references)"
   ]
  },
  {
   "cell_type": "markdown",
   "id": "02427add",
   "metadata": {},
   "source": [
    "<a id='motivation'></a>\n",
    "## 1. Motivation"
   ]
  },
  {
   "cell_type": "markdown",
   "id": "63f0ef86",
   "metadata": {},
   "source": [
    "The main dataset we are using contains the registered evictions performed in New York City from 2017 until May 10th 2023. We decided to analyze this dataset because of our interest in social phenonemena and our excitement to discover patterns, development and connections to other factors. Evictions can be influenced by many elements and we were interested what impact social and economic situations have on this specific topic, as well as rent prices and living conditions. The American Community Survey (ACS) gathers this information with annual elicitations conducted by the U.S. Census Bureau. We are looking at the 5-year-estimates of the latest published years from 2017-2021.\n",
    "With our analysis we want to provide insights into distributions of evictions in NYC and possible correlations between certain factors. The goal is to give an introduction to the topic and let the reader explore the informations further with interacitve plots afterwards."
   ]
  },
  {
   "cell_type": "markdown",
   "id": "e7e09fef",
   "metadata": {},
   "source": [
    "<a id='basicstats'></a>\n",
    "## 2. Basic stats\n",
    "\n",
    "<a id='packages'></a>\n",
    "### 2a. Importing packages"
   ]
  },
  {
   "cell_type": "code",
   "execution_count": null,
   "id": "538c3d83",
   "metadata": {},
   "outputs": [],
   "source": [
    "import pandas as pd\n",
    "import numpy as np\n",
    "import matplotlib.pyplot as plt\n",
    "import matplotlib\n",
    "import json \n",
    "from urllib import request\n",
    "import plotly.express as px\n",
    "import plotly.graph_objs as go\n",
    "import plotly\n",
    "import os\n",
    "import seaborn as sns\n",
    "from functools import reduce\n",
    "import re\n",
    "from math import pi\n",
    "from bokeh.io import push_notebook, show, output_notebook\n",
    "from bokeh.plotting import figure\n",
    "from bokeh.transform import cumsum"
   ]
  },
  {
   "cell_type": "code",
   "execution_count": null,
   "id": "7f93b4ca",
   "metadata": {},
   "outputs": [],
   "source": [
    "# graph settings\n",
    "%matplotlib inline\n",
    "matplotlib.rcParams['font.sans-serif'] = \"Helvetica\"\n",
    "matplotlib.rcParams['font.family'] = \"sans-serif\"\n",
    "plt.rcParams['figure.figsize'] = (15, 7)\n",
    "plt.rcParams['axes.titlesize'] = 14\n",
    "plt.rcParams['axes.labelsize'] = 12\n",
    "output_notebook()\n",
    "\n",
    "# ignore outputs regarding to missing fonts etc\n",
    "import warnings\n",
    "warnings.filterwarnings(\"ignore\")"
   ]
  },
  {
   "cell_type": "code",
   "execution_count": null,
   "id": "820c8e17",
   "metadata": {},
   "outputs": [],
   "source": [
    "x = np.linspace(0, 1, 25)\n",
    "c = px.colors.sample_colorscale('agsunset', list(x))"
   ]
  },
  {
   "cell_type": "code",
   "execution_count": null,
   "id": "9b4a4cd3",
   "metadata": {},
   "outputs": [],
   "source": [
    "c = plotly.colors.sample_colorscale(px.colors.sequential.Agsunset_r, samplepoints=20, colortype='tuple')\n",
    "agsunset_hex = [] \n",
    "for row in c:\n",
    "    agsunset_hex.append(matplotlib.colors.to_hex(row))\n",
    "    \n",
    "plot_color_1 = agsunset_hex[17]\n",
    "plot_color_2 = agsunset_hex[7]"
   ]
  },
  {
   "cell_type": "markdown",
   "id": "1a3c7331",
   "metadata": {},
   "source": [
    "# remove blues"
   ]
  },
  {
   "cell_type": "code",
   "execution_count": null,
   "id": "8f4f105e",
   "metadata": {},
   "outputs": [],
   "source": [
    "# create custom color palette\n",
    "custom_blues = list(sns.cubehelix_palette(start=.5, rot=-.5, n_colors=256, as_cmap=False).as_hex())\n",
    "custom_blue = custom_blues[100]\n",
    "\n",
    "plasma_custom = []\n",
    "cmap = plt.get_cmap('plasma_r', 10)\n",
    "for i in range(cmap.N):\n",
    "    rgba = cmap(i)\n",
    "    plasma_custom += [matplotlib.colors.rgb2hex(rgba)]"
   ]
  },
  {
   "cell_type": "markdown",
   "id": "0e55aed4",
   "metadata": {},
   "source": [
    "<a id='datacleaning'></a>\n",
    "### 2b. Data cleaning and preprocessing and Exploratory Data Analysis"
   ]
  },
  {
   "cell_type": "markdown",
   "id": "22d8ddec",
   "metadata": {},
   "source": [
    "The dataset was inspected for missing values and we decided to exclude all records from the eviction dataset without an excact geographical location or the Neighborhood Tabulation Area (NTA), since our focus is on displaying these on a map and comparing it with the ACS data using the NTA's.\n",
    "- total amount of records in the eviction data: 75443\n",
    "- after removing all records without a location: 68207\n",
    "\n",
    "There are some features in the dataset that are not interesting for our analysis so we remove them as well.\n",
    "- total amount of columns: 20\n",
    "- after removing uninteresting columns: 15\n",
    "\n",
    "The ACS data contains one row for each NTA. Until 2020 the number of NTA's was 195, since then it is 262. The amount of features changes for the conducted year and specific category and ranges from 486 to 2730. We will focus only on a few limited topics that are interesting for our analysis like the average rent price. The total amount of features we are using is 57.\n",
    "\n",
    "Because the NTA boundaries were changed we are using one json file for the 2010 NTA's and one for the 2020 NTA's. We also investigated if they contain all NTA's mentioned in our datasets."
   ]
  },
  {
   "cell_type": "code",
   "execution_count": null,
   "id": "d6e5c5d9",
   "metadata": {},
   "outputs": [],
   "source": [
    "# load the eviction dataset\n",
    "df = pd.read_csv('data/Evictions.csv')"
   ]
  },
  {
   "cell_type": "code",
   "execution_count": null,
   "id": "05af52a0",
   "metadata": {},
   "outputs": [],
   "source": [
    "# turn dates into datetime\n",
    "df['Executed Date'] = df['Executed Date'].apply(pd.to_datetime)\n",
    "# add column with just the year\n",
    "df['Year'] = df['Executed Date'].dt.year"
   ]
  },
  {
   "cell_type": "code",
   "execution_count": null,
   "id": "46a56ed3",
   "metadata": {},
   "outputs": [],
   "source": [
    "# remove all rows that don't have a specific location\n",
    "df = df.copy().dropna(subset=['NTA'])\n",
    "# reomve columns that are not from interest for the analysis\n",
    "df = df.drop(columns=['Eviction Apartment Number', 'Court Index Number', 'Docket Number ','Community Board', 'Council District', 'Census Tract'])"
   ]
  },
  {
   "cell_type": "code",
   "execution_count": null,
   "id": "32fdfc95",
   "metadata": {},
   "outputs": [],
   "source": [
    "# checking for missing values\n",
    "for column in df.columns:\n",
    "    if df[column].isnull().sum() != 0:\n",
    "        print(f'Missing values in {column}: {df[column].isnull().sum()}')"
   ]
  },
  {
   "cell_type": "markdown",
   "id": "802d6573",
   "metadata": {},
   "source": [
    "The rows with missing values in the columns above still have values for latitudes and longitudes so we are not removing them from the data."
   ]
  },
  {
   "cell_type": "code",
   "execution_count": null,
   "id": "be75e861",
   "metadata": {},
   "outputs": [],
   "source": [
    "# load data from directories and declare with variable name\n",
    "myVars = vars()\n",
    "rootFolder = 'data/'\n",
    "def load_data(directory, data):\n",
    "    for filename in os.listdir(rootFolder + directory):\n",
    "        # filter out hidden files that start with .\n",
    "        if not filename.startswith('.'):\n",
    "            # assign following name\n",
    "            variable_name = \"_\".join(filename.split(\"_\", 2)[:2])\n",
    "            data.append(variable_name)\n",
    "            myVars[variable_name] = pd.read_excel(rootFolder+directory+'/'+filename)\n",
    "            # add a column with the conducted year\n",
    "            year = int(variable_name.split(\"_\")[1])\n",
    "            myVars[variable_name]['Year'] = year\n",
    "            # rename the geoname column to NTA\n",
    "            myVars[variable_name] = myVars[variable_name].rename(columns={'GeoName': 'NTA', 'GeogName': 'NTA'})\n",
    "    return data"
   ]
  },
  {
   "cell_type": "code",
   "execution_count": null,
   "id": "789835d2",
   "metadata": {},
   "outputs": [],
   "source": [
    "# load all of the acs survey data\n",
    "directories = ['housing_data', 'economic_data', 'social_data', 'demographic_data']\n",
    "data = []\n",
    "for directory in directories:\n",
    "    data = load_data(directory, data)"
   ]
  },
  {
   "cell_type": "code",
   "execution_count": null,
   "id": "b179f7ae",
   "metadata": {},
   "outputs": [],
   "source": [
    "# focus only on these columns in the acs data\n",
    "hous_dict = {'Average Rent': 'MdGRE',\n",
    "             'Total Housing Units': 'HU1E',\n",
    "             'GRAPI <15': 'GRPIU15E' , \n",
    "             'GRAPI 15-19': 'GRPI15t19E', \n",
    "             'GRAPI 20-24': 'GRPI20t24E', \n",
    "             'GRAPI 25-29': 'GRPI25t29E', \n",
    "             'GRAPI 30-34': 'GRPI30t34E',\n",
    "             'GRAPI >30': 'GRPI30plE',\n",
    "             'GRAPI >35': 'GRPI35plE', \n",
    "             'GRAPI >50': 'GRPI50plE',\n",
    "             'Year': 'Year',\n",
    "             'NTA': 'NTA',\n",
    "             'Borough': 'Borough'}\n",
    "\n",
    "econ_dict = {'Unemployed': 'CvLFUEm1E',\n",
    "             'Civilian labor force': 'CvLF1E',\n",
    "             'Average Household Income': 'MnHHIncE',\n",
    "             'Income below Poverty': 'FamBwPvE', \n",
    "             'Total Households': 'HH2E',\n",
    "             'Industry: Agriculture': 'AgFFHME', \n",
    "             'Industry: Construction': 'ConstctnE',\n",
    "             'Industry: Manufacturing': 'MnfctrngE',\n",
    "             'Industry: Wholesale trade': 'WhlsaleE',\n",
    "             'Industry: Retail trade': 'RetailE',\n",
    "             'Industry: Transportation': 'TrWHUtE',\n",
    "             'Industry: Information': 'InfoE',\n",
    "             'Industry: Finance and Insurance': 'FIREE',\n",
    "             'Industry: Scientific, Management, Administrative Services': 'PrfSMgAWME',\n",
    "             'Industry: Educational services, Health Care and Social Assistance': 'EdHlthCSAE',\n",
    "             'Industry: Arts, Entertainment, Accommodation and Food Services': 'ArtEnRAFSE',\n",
    "             'Industry: Other services': 'OthnotPAE',\n",
    "             'Industry: Public administration': 'PubAdminE',\n",
    "             'Year': 'Year',\n",
    "             'NTA': 'NTA',\n",
    "             'Borough': 'Borough'}\n",
    "\n",
    "soc_dict = {'Family Households': 'Fam1E',\n",
    "            'Living with Children under 18': 'FamChU18E',\n",
    "            'Non Family Households': 'NFam1E',\n",
    "            'Living Alone': 'NFamAE', \n",
    "            'Male with Children under 18': 'MHnWChU18E',\n",
    "            'Female with Children under 18': 'FHnHChU18E',\n",
    "            'Average Household size': 'AvgHHSzE',\n",
    "            'College Students': 'SE_ClgGScE',\n",
    "            'Education: Less than High School': 'EA_LTHSGrE',\n",
    "            'Education: High School': 'EA_HScGrdE',\n",
    "            'Education: Bachelor or higher': 'EA_BchDHE',\n",
    "            'Residence: More than 1 year': 'SmHsE',\n",
    "            'Residence: Less than 1 year': 'DfHs1E',\n",
    "            'Native American': 'NtvE',\n",
    "            'Foreign Born':'Fb1E',\n",
    "            'Year': 'Year',\n",
    "            'NTA': 'NTA',\n",
    "            'Borough': 'Borough'}\n",
    "\n",
    "demo_dict = {'Total population': 'Pop_1E',\n",
    "             'Median Age': 'MdAgeE',\n",
    "             'Ethnicity: Hispanic/Latino': 'Hsp1E', \n",
    "             'Ethnicity: White': 'WtNHE', \n",
    "             'Ethnicity: Black or African American': 'BlNHE', \n",
    "             'Ethnicity: American Indian and Alaska Native': 'AIANNHE', \n",
    "             'Ethnicity: Asian': 'AsnNHE', \n",
    "             'Ethnicity: Native Hawaiian and Other Pacific Islander': 'NHPINHE', \n",
    "             'Ethnicity: Other race': 'OthNHE', \n",
    "             'Ethnicity: Two or more races': 'Rc2plNHE',\n",
    "             'Year': 'Year',\n",
    "             'NTA': 'NTA',\n",
    "             'Borough': 'Borough'}\n",
    "\n",
    "acs_dict = hous_dict | econ_dict | soc_dict | demo_dict\n",
    "\n",
    "# GRAPI = ['GRPIU15E', 'GRPI15t19E', 'GRPI20t24E', 'GRPI25t29E', 'GRPI30t34E', 'GRPI35plE', 'GRPI50plE']"
   ]
  },
  {
   "cell_type": "code",
   "execution_count": null,
   "id": "b7e53472",
   "metadata": {},
   "outputs": [],
   "source": [
    "# reduce the dataframes to only the above selected columns\n",
    "# create combined dfs for each category\n",
    "\n",
    "hous_combined = pd.DataFrame()\n",
    "econ_combined = pd.DataFrame()\n",
    "soc_combined = pd.DataFrame()\n",
    "demo_combined = pd.DataFrame()\n",
    "\n",
    "def reduce_dataframe(frame, columns):\n",
    "    try:\n",
    "        myVars[frame] = myVars[frame][columns]\n",
    "    except Exception as e:\n",
    "        exceptions = re.findall(r\"'(.*?)'\", str(e))\n",
    "        newColumns = [x for x in columns if x not in exceptions]\n",
    "        myVars[frame] = myVars[frame][newColumns]\n",
    "\n",
    "for frame in data:\n",
    "    if frame[:4] == 'hous':\n",
    "        reduce_dataframe(frame, list(hous_dict.values()))\n",
    "        hous_combined = pd.concat([hous_combined, myVars[frame]], axis=0)\n",
    "    elif frame[:4] == 'econ':\n",
    "        reduce_dataframe(frame, list(econ_dict.values()))\n",
    "        econ_combined = pd.concat([econ_combined, myVars[frame]], axis=0)\n",
    "    elif frame[:3] == 'soc':\n",
    "        reduce_dataframe(frame, list(soc_dict.values()))\n",
    "        soc_combined = pd.concat([soc_combined, myVars[frame]], axis=0)\n",
    "    elif frame[:4] == 'demo':\n",
    "        reduce_dataframe(frame, list(demo_dict.values()))\n",
    "        demo_combined = pd.concat([demo_combined, myVars[frame]], axis=0)"
   ]
  },
  {
   "cell_type": "code",
   "execution_count": null,
   "id": "40011e1d",
   "metadata": {},
   "outputs": [],
   "source": [
    "# load the nta boundaries for 2010 NTA's\n",
    "with open('data/NTA_map.geojson') as file:\n",
    "    nta_json = json.load(file)\n",
    "\n",
    "for i in list(range(len(nta_json['features']))):\n",
    "    json_id = nta_json['features'][i]['properties']['ntaname']\n",
    "    nta_json['features'][i]['id'] = json_id"
   ]
  },
  {
   "cell_type": "code",
   "execution_count": null,
   "id": "a39eb3c9",
   "metadata": {},
   "outputs": [],
   "source": [
    "# load the nta boundaries for 2020 NTA's\n",
    "url = 'https://services5.arcgis.com/GfwWNkhOj9bNBqoJ/arcgis/rest/services/NYC_Neighborhood_Tabulation_Areas_2020/FeatureServer/0/query?where=1=1&outFields=*&outSR=4326&f=pgeojson'\n",
    "with request.urlopen(url) as response:\n",
    "    nta_json_2020 = json.load(response)\n",
    "\n",
    "for i in list(range(len(nta_json_2020['features']))):\n",
    "    json_id = nta_json_2020['features'][i]['properties']['NTAName']\n",
    "    nta_json_2020['features'][i]['id'] = json_id"
   ]
  },
  {
   "cell_type": "code",
   "execution_count": null,
   "id": "a58485b7",
   "metadata": {},
   "outputs": [],
   "source": [
    "# see what NTA's are not in json file\n",
    "def check_nta_matches(nta_json, data):\n",
    "    nta_list = []\n",
    "    for i in list(range(len(nta_json['features']))):\n",
    "        nta_list += [nta_json['features'][i]['id']]\n",
    "\n",
    "    missing = 0\n",
    "    same = 0\n",
    "    for nta in data['NTA'].unique():\n",
    "        if nta not in nta_list:\n",
    "            missing += 1\n",
    "            print('The following NTA is not in the json file:', nta)\n",
    "        else: same += 1\n",
    "    print('Same:',same)\n",
    "    print('Missing:',missing)"
   ]
  },
  {
   "cell_type": "code",
   "execution_count": null,
   "id": "558b6be3",
   "metadata": {},
   "outputs": [],
   "source": [
    "# see if there are NTA geo boundaries missing for the eviction dataset\n",
    "check_nta_matches(nta_json, df)"
   ]
  },
  {
   "cell_type": "code",
   "execution_count": null,
   "id": "d1bc8fd5",
   "metadata": {
    "scrolled": true
   },
   "outputs": [],
   "source": [
    "# see if there are 2010 NTA geo boundaries missing for the acs data\n",
    "check_nta_matches(nta_json, hous_2017)"
   ]
  },
  {
   "cell_type": "code",
   "execution_count": null,
   "id": "e2bc4fe7",
   "metadata": {
    "scrolled": false
   },
   "outputs": [],
   "source": [
    "# see if there are 2020 NTA geo boundaries missing for the acs data\n",
    "check_nta_matches(nta_json_2020, hous_2019)"
   ]
  },
  {
   "cell_type": "code",
   "execution_count": null,
   "id": "8b0404fa",
   "metadata": {},
   "outputs": [],
   "source": [
    "# replace name of NTA in acs survey data with name used in eviction dataset and json file\n",
    "for file in data:\n",
    "    myVars[file] = myVars[file].replace('Hudson Yards-Chelsea-Flat Iron-Union Square', 'Hudson Yards-Chelsea-Flatiron-Union Square')"
   ]
  },
  {
   "cell_type": "markdown",
   "id": "404ddbcc",
   "metadata": {},
   "source": [
    "<a id='dataanalysis'></a>\n",
    "## 3. Data Analysis"
   ]
  },
  {
   "cell_type": "markdown",
   "id": "517cffd6",
   "metadata": {},
   "source": [
    "In this chapter we are searching for patterns in the data, comparing it to the ACS data and show our findings in plots and maps. Main focus will be development in the past years, hotspot areas and insights about people living in NYC."
   ]
  },
  {
   "cell_type": "markdown",
   "id": "812c7ce1",
   "metadata": {},
   "source": [
    "<a id='development'></a>\n",
    "### 3a. Development over the years"
   ]
  },
  {
   "cell_type": "code",
   "execution_count": null,
   "id": "06ef0df2",
   "metadata": {},
   "outputs": [],
   "source": [
    "years = df.groupby(['Year'])['Year'].count().to_frame('Amount').reset_index()\n",
    "\n",
    "fig = px.bar(years, y='Amount', x='Year')\n",
    "fig.update_layout(title_text='Amount of evictions per year January 2017 - May 10th 2023', \n",
    "                  title_x=0.5, \n",
    "                  font_family='Helvetica',\n",
    "                  plot_bgcolor='rgba(0, 0, 0, 0)')\n",
    "fig.update_xaxes(showline=True, linewidth=1, linecolor='black')\n",
    "fig.update_yaxes(showline=True, linewidth=1, linecolor='black')\n",
    "fig.update_traces(textfont_size=12, \n",
    "                  textangle=0, \n",
    "                  textposition=\"outside\", \n",
    "                  #cliponaxis=False, \n",
    "                  marker_color=plot_color_1)\n",
    "fig.add_traces(go.Scatter(x= years.Year, y=years.Amount, mode = 'lines', showlegend=False, hoverinfo='skip', line_color=plot_color_2))\n",
    "\n",
    "fig.show()"
   ]
  },
  {
   "cell_type": "markdown",
   "id": "c5dcf93e",
   "metadata": {},
   "source": [
    "The histogram above depicts the distribution of the number of evictions in the examined period. With a first glimpse, it can easily become evident that there is a significant decrease in 2020 and the following years. Research showed that this is related to the [Tentant Safe Harbor Act](https://hcr.ny.gov/covid-19-eviction-protections-tenants) to protect tenants that face financial issues due to Covid-19. This law was enacted from March 7th 2020 until Janunary 15th 2022.\n",
    "\n",
    "Even though the moratorium ended in 2022 the number of evictions is still low compared to the years before Covid. In the next plot we are looking at this development more in detail."
   ]
  },
  {
   "cell_type": "code",
   "execution_count": null,
   "id": "febdee74",
   "metadata": {},
   "outputs": [],
   "source": [
    "after_law = df.loc[(df.Year>=2022)&(df['Executed Date']<=datetime(2023,4,30))].groupby(['Year', df['Executed Date'].dt.month])['Executed Date'].count()\n",
    "after_law = after_law.to_frame('Amount').reset_index()\n",
    "after_law['Date'] = after_law['Year'].astype(str) + ', ' + after_law['Executed Date'].astype(str)\n",
    "\n",
    "fig = px.bar(after_law, y='Amount', x='Date', text_auto='.0s')\n",
    "fig.update_layout(title_text='Evictions since end of motarium', title_x=0.5, font_family='Helvetica', plot_bgcolor= 'rgba(0, 0, 0, 0)')\n",
    "fig.update_xaxes(showline=True, linewidth=1, linecolor='black')\n",
    "fig.update_yaxes(showline=True, linewidth=1, linecolor='black')\n",
    "fig.update_traces(textfont_size=12, textangle=0, textposition=\"outside\", cliponaxis=False, marker_color=plot_color_1)\n",
    "fig.show()"
   ]
  },
  {
   "cell_type": "markdown",
   "id": "5d97131e",
   "metadata": {},
   "source": [
    "We can see that the evictions are rising again but do not reach the level before covid. This could be related to the fact that courts are overwhelmed with the floods of legal requests for evictions from landlords. “There are some evictions going through, but there are many inherent delays with the court system resulting in evictions occurring but not at the pace or the level they were prior” ([Statement from lawyer in NYC](https://gothamist.com/news/nyc-eviction-rate-continues-to-rise-since-ban-was-lifted-as-homelessness-surges)).\n",
    "\n",
    "What is also striking from the previous bar chart is the decrease in December. That's why the following plot is looking at patterns before Covid 2017-2019."
   ]
  },
  {
   "cell_type": "code",
   "execution_count": null,
   "id": "b3cddf29",
   "metadata": {},
   "outputs": [],
   "source": [
    "period_2017_2019 = df.loc[df['Executed Date']<=datetime(2020,1,1)]\n",
    "\n",
    "fig, axs = plt.subplots(2,2)\n",
    "\n",
    "years = period_2017_2019.groupby([df['Executed Date'].dt.year])['Executed Date'].count().to_frame('Amount').reset_index()\n",
    "months = period_2017_2019.groupby([df['Executed Date'].dt.month])['Executed Date'].count().to_frame('Amount').reset_index()\n",
    "days = period_2017_2019.groupby([df['Executed Date'].dt.day])['Executed Date'].count().to_frame('Amount').reset_index()\n",
    "weekdays = period_2017_2019.groupby([df['Executed Date'].dt.weekday])['Executed Date'].count().to_frame('Amount').reset_index()\n",
    "\n",
    "plt.subplot(2,2,1)\n",
    "plt.bar(years['Executed Date'], years['Amount'], color=plot_color_1, width=0.5)\n",
    "plt.xticks(range(2017,2020))\n",
    "plt.xlabel('Year')\n",
    "plt.ylabel('Amount of evictions')\n",
    "\n",
    "plt.subplot(2,2,2)\n",
    "plt.bar(months['Executed Date'], months['Amount'], color=plot_color_1)\n",
    "plt.xlabel('Month')\n",
    "plt.xticks(range(1,13),labels=['Jan', 'Feb', 'Mar', 'Apr', 'May', 'Jun', 'Jul', 'Aug', 'Sep', 'Oct', 'Nov', 'Dec'])\n",
    "\n",
    "plt.subplot(2,2,3)\n",
    "plt.bar(days['Executed Date'], days['Amount'], color=plot_color_1)\n",
    "plt.xlabel('Day of month')\n",
    "plt.xticks(range(1,32))\n",
    "plt.ylabel('Amount of evictions')\n",
    "\n",
    "plt.subplot(2,2,4)\n",
    "plt.bar(weekdays['Executed Date'], weekdays['Amount'], color=plot_color_1)\n",
    "plt.xlabel('Weekday')\n",
    "plt.xticks(range(6),labels=['Monday', 'Tuesday', 'Wednesday', 'Thursday', 'Friday', 'Saturday'])\n",
    "\n",
    "plt.suptitle('Pattern in evictions in NYC from 2017-2019')\n",
    "plt.tight_layout()\n",
    "plt.show()"
   ]
  },
  {
   "cell_type": "markdown",
   "id": "7e2168a7",
   "metadata": {},
   "source": [
    "From the previous plots it shows that there are lower amounts of evictions especially in December. Some countries have winter moratoriums to protect people from being homeless in the cold months of the year, but there is now law like this in NYC. Another reason could be the holiday season which would also explain the high amount in January, since some court cases might be held off until the new year. As a result, there may be a backlog of eviction proceedings that are initiated in January, leading to higher eviction rates.\n",
    "\n",
    "We can see that some marshals are also working on Saturday, even though the occurences are very small. You can see the four evictions that happened on a Saturday 2017-2019 below."
   ]
  },
  {
   "cell_type": "code",
   "execution_count": null,
   "id": "72349efd",
   "metadata": {
    "scrolled": true
   },
   "outputs": [],
   "source": [
    "df[df['Executed Date'].dt.weekday == 5]"
   ]
  },
  {
   "cell_type": "markdown",
   "id": "f53e4cd1",
   "metadata": {},
   "source": [
    "<a id='marshals'></a>\n",
    "### 3b. Marhals that performed most evictions"
   ]
  },
  {
   "cell_type": "code",
   "execution_count": null,
   "id": "112590e8",
   "metadata": {},
   "outputs": [],
   "source": [
    "df['Marshal Full Name'] = df['Marshal First Name'] + ' ' + df['Marshal Last Name']"
   ]
  },
  {
   "cell_type": "code",
   "execution_count": null,
   "id": "97efe65d",
   "metadata": {},
   "outputs": [],
   "source": [
    "df.groupby(df['Marshal Full Name'])['Executed Date'].count() \\\n",
    "    .sort_values(ascending=False) \\\n",
    "    .plot(kind='bar', color=plot_color_1, width=0.6)\n",
    "plt.title('Amount of evictions performed by marshal')\n",
    "plt.xlabel('Marshal')\n",
    "plt.ylabel('Amount')\n",
    "plt.xticks(rotation=90)\n",
    "plt.show()"
   ]
  },
  {
   "cell_type": "markdown",
   "id": "f2d7d1fa",
   "metadata": {},
   "source": [
    "Another interesting information that we derived from the initial dataset is the list of marshals who performed the evictions over the years. The information someone could obtain from this plot is that there is a relatively small number of officers specializing in evictions for such a big city as New York while it is even more interesting to see that one police marshal stands out especially."
   ]
  },
  {
   "cell_type": "markdown",
   "id": "736789ee",
   "metadata": {},
   "source": [
    "<a id='residentialvscommercial'></a>\n",
    "### 3c. Residential vs Commercial"
   ]
  },
  {
   "cell_type": "code",
   "execution_count": null,
   "id": "f8cc1cc4",
   "metadata": {},
   "outputs": [],
   "source": [
    "rescom = df.groupby(['Residential/Commercial'])['Residential/Commercial'].count().to_frame('Amount').reset_index()\n",
    "\n",
    "fig = px.pie(rescom, values = 'Amount', #hole = 0.4,\n",
    "             names = 'Residential/Commercial',\n",
    "             color_discrete_sequence=px.colors.sequential.Agsunset,\n",
    "             title = 'Residential vs Commercial Evictions'\n",
    "             )\n",
    "\n",
    "fig.update_traces(title_font = dict(size=25,family='Helvetica'),\n",
    "                  hoverinfo='label',\n",
    "                  textinfo='percent', \n",
    "                  textfont_size=14,\n",
    "                  hovertemplate = 'Type: %{label}'\n",
    ")\n",
    "\n",
    "fig.update_layout(title_x=0.5)\n",
    "fig.update_layout(margin=dict(l=300, r=300, t=90, b=0))\n",
    "fig.show()\n"
   ]
  },
  {
   "cell_type": "markdown",
   "id": "c6813055",
   "metadata": {},
   "source": [
    "From the piechart it can be seen that the majority of the evictions corresponds to residential buildings with a percentage of 93%. Commercial tenants may be companies and firms or also storages. "
   ]
  },
  {
   "cell_type": "markdown",
   "id": "f460f258",
   "metadata": {},
   "source": [
    "<a id='boroughs'></a>\n",
    "### 3d. Boroughs with most evictions"
   ]
  },
  {
   "cell_type": "code",
   "execution_count": null,
   "id": "5765c242",
   "metadata": {},
   "outputs": [],
   "source": [
    "merge_boroughs = pd.merge(df[['NTA', 'BOROUGH']], hous_2017, left_on=['NTA'], right_on=['NTA'], how='left')\n",
    "units = merge_boroughs.groupby(['NTA'])['HU1E'].mean().to_frame('units').reset_index()\n",
    "boroughs = df.groupby(['NTA','BOROUGH'])['BOROUGH'].count().to_frame('amount').reset_index()\n",
    "\n",
    "boroughs_plot = pd.merge(boroughs, units, left_on=['NTA'], right_on=['NTA'], how='right')    \n",
    "boroughs_plot = boroughs_plot.groupby(['BOROUGH'])[['amount', 'units']].sum().reset_index()\n",
    "\n",
    "boroughs_plot['ratio'] = boroughs_plot.amount / boroughs_plot.units\n",
    "boroughs_plot['color'] = agsunset_hex[::4]\n",
    "\n",
    "fig = px.pie(boroughs_plot, values = 'ratio', hole = 0.4,\n",
    "             names = 'BOROUGH',\n",
    "             color_discrete_sequence=px.colors.sequential.Agsunset,\n",
    "             title = 'Population Economically Active',\n",
    "             #width=900\n",
    "             )\n",
    "\n",
    "fig.update_traces(title_font = dict(size=25,family='Helvetica'),\n",
    "                  hoverinfo='label',\n",
    "                  textinfo='percent', \n",
    "                  textfont_size=14,\n",
    "                  hovertemplate = 'Borough: %{label}'\n",
    ")\n",
    "\n",
    "fig.update_layout(title_x=0.5, font_family='Helvetica',)\n",
    "fig.update_layout(margin=dict(l=300, r=300, t=90, b=0))\n",
    "fig.show()"
   ]
  },
  {
   "cell_type": "markdown",
   "id": "93734eac",
   "metadata": {},
   "source": [
    "At this point, the ratio of evictions in the boroughs was plotted in order to get a first view on the hotspot areas. The borough plot reveals that Bronx stands out with the highest number of recorded evictions followed by Brooklyn. This information would later be enhanced by plotting the Neighborhood Tabulation Areas (NTAs) in an interactive geo map to investigate further which areas could be considered as eviction \"hotspots\". "
   ]
  },
  {
   "cell_type": "markdown",
   "id": "6e51db69",
   "metadata": {},
   "source": [
    "<a id='evictionsMap'></a>\n",
    "### 3e. Map with evictions and hotspot areas"
   ]
  },
  {
   "cell_type": "code",
   "execution_count": null,
   "id": "4a1a8e9d",
   "metadata": {},
   "outputs": [],
   "source": [
    "# prepare data for map\n",
    "map_data = df.groupby([df.Year,'NTA'])['NTA'].count()\n",
    "map_data = map_data.rename('Evictions').to_frame().reset_index()"
   ]
  },
  {
   "cell_type": "code",
   "execution_count": null,
   "id": "50d1a9e5",
   "metadata": {
    "scrolled": true
   },
   "outputs": [],
   "source": [
    "# buildings with the most evictions\n",
    "df[df['Year']==2017].groupby(['BIN'])['BIN'].count().sort_values(ascending=False).iloc[0:5]"
   ]
  },
  {
   "cell_type": "markdown",
   "id": "97af9243",
   "metadata": {},
   "source": [
    "The Building Identification Number (BIN) is a unique number for each building in NYC. At first glance it seems like a lot of evictions happened in the building with the number 3000000. But the addresses differ which reveals human noise. However, for the buildings where the location is the same it is interesting to investigate further.  \n",
    "\n",
    "The building with most evictions (BIN 1080331) for example a storage which explains the location in Manhatten on the map below."
   ]
  },
  {
   "cell_type": "code",
   "execution_count": null,
   "id": "7c3f085d",
   "metadata": {},
   "outputs": [],
   "source": [
    "# keeping buildings for map with amount higher or equal to 10\n",
    "buildings = df.groupby(['BIN', 'Latitude', 'Longitude', 'Year'])['BIN'].count().sort_values(ascending=False).to_frame('Amount').reset_index()\n",
    "buildings_dots = buildings[buildings.Amount >= 10]"
   ]
  },
  {
   "cell_type": "code",
   "execution_count": null,
   "id": "c6661a77",
   "metadata": {
    "scrolled": false
   },
   "outputs": [],
   "source": [
    "# map with NTA's\n",
    "fig = px.choropleth_mapbox(map_data, geojson=nta_json, locations='NTA', color='Evictions',\n",
    "                        color_continuous_scale='agsunset_r',\n",
    "                        mapbox_style=\"carto-positron\",\n",
    "                        zoom=9.1, center = {\"lat\": 40.72, \"lon\": -73.93},\n",
    "                        animation_frame='Year',\n",
    "                        width=950,\n",
    "                        height=600,\n",
    "                        hover_data={'Year':False}\n",
    "                        )\n",
    "fig.update_traces(marker_line_width=0.5, \n",
    "                  marker_opacity=0.8\n",
    "                 )\n",
    "\n",
    "# dots with hotspot buildings\n",
    "fig2 = px.scatter_mapbox(buildings_dots, lat=\"Latitude\", lon=\"Longitude\",\n",
    "            animation_frame = 'Year',\n",
    "            size=\"Amount\", \n",
    "            color_discrete_sequence = ['black'],\n",
    "            size_max=7,\n",
    "            hover_data={'Year':False, 'Latitude':False, 'Longitude':False}\n",
    "            )\n",
    "\n",
    "fig.add_trace(fig2.data[0])\n",
    "for i in range(len(fig.frames)):\n",
    "    if i >= len(fig2.frames):\n",
    "        emptydata = fig2.frames[0].data[0]\n",
    "        emptydata['lat'] = []\n",
    "        emptydata['lon'] = []\n",
    "        fig.frames[i].data += (emptydata,)\n",
    "    else:\n",
    "        fig.frames[i].data += (fig2.frames[i].data[0],)\n",
    "\n",
    "fig.update_layout(margin={\"r\":0,\"t\":0,\"l\":0,\"b\":0})\n",
    "fig.show()\n",
    "# fig.write_html('evictions-2017-2023-map.html')"
   ]
  },
  {
   "cell_type": "markdown",
   "id": "81eb7e77",
   "metadata": {},
   "source": [
    "The last information derived from our initial dataset is an interactive map of the 195 listed neighborhoods (NTAs) with the occurences of evictions spanned over the years. The black dots indicate buidlings with 10 or more evictions for that year.\n",
    "\n",
    "You can also see the occurences as heatmap below."
   ]
  },
  {
   "cell_type": "code",
   "execution_count": null,
   "id": "506b80a1",
   "metadata": {},
   "outputs": [],
   "source": [
    "# heatmap\n",
    "fig3 = px.density_mapbox(buildings, lat = 'Latitude', lon = 'Longitude', z = 'Amount',\n",
    "                        radius = 6,\n",
    "                        center = {\"lat\": 40.72, \"lon\": -73.93},\n",
    "                        zoom=9.1,\n",
    "                        mapbox_style = 'carto-positron',\n",
    "                        color_continuous_scale='agsunset',\n",
    "                        animation_frame='Year',\n",
    "                        width=950,\n",
    "                        height=600,\n",
    "                        hover_data={'Year':False, 'Latitude':False, 'Longitude':False, 'BIN':True})\n",
    "fig3.show()"
   ]
  },
  {
   "cell_type": "markdown",
   "id": "1054f63e",
   "metadata": {},
   "source": [
    "Analyzing the above, it was judged necessary to incorporate more information about the specified areas with high amount of evictions. Thus, we are using economic, social, housing and demographic data of the NTA's in the following."
   ]
  },
  {
   "cell_type": "markdown",
   "id": "ef9de7b4",
   "metadata": {},
   "source": [
    "<a id='housing'></a>\n",
    "### 3f. Insights about housing data"
   ]
  },
  {
   "cell_type": "code",
   "execution_count": null,
   "id": "00da3546",
   "metadata": {},
   "outputs": [],
   "source": [
    "df_rent = hous_combined.groupby(['year'])['MdGRE'].mean()\n",
    "plt.bar(df_rent.index, df_rent, width=0.5, color=plot_color_1)\n",
    "plt.plot(df_rent, color=plot_color_2, linewidth=2)\n",
    "plt.ylabel('Mean Gross Rent in $')\n",
    "plt.xlabel('Year')\n",
    "plt.title('Average rent prices in NYC from 2017-2021')\n",
    "plt.show()"
   ]
  },
  {
   "cell_type": "code",
   "execution_count": null,
   "id": "d48b2301",
   "metadata": {},
   "outputs": [],
   "source": [
    "# average rent increase\n",
    "rent2017 = hous_2017['MdGRE'].mean()\n",
    "rent2021 = hous_2021['MdGRE'].mean()\n",
    "print(f\"Increase of {round(rent2021/rent2017-1, 3)*100}% in average rent from 2017 to 2021.\")"
   ]
  },
  {
   "cell_type": "code",
   "execution_count": null,
   "id": "7d54c2e5",
   "metadata": {},
   "outputs": [],
   "source": [
    "hous_combined.boxplot(column=['MdGRE'], by='Year', color=plot_color_1)\n",
    "plt.xlabel('Year')\n",
    "plt.ylabel('Mean Gross Rent in $')\n",
    "plt.title('Average rent')\n",
    "plt.suptitle('')\n",
    "plt.show()"
   ]
  },
  {
   "cell_type": "markdown",
   "id": "73ddf4db",
   "metadata": {},
   "source": [
    "The first thing someone has to search for in order to analyze evictions, is the respective rent prices as well as the household income spanned over the examined period. In this regard, we have plotted the Mean Gross Rent over the years in the figures above. It can be seen that Rent prices are steadily increasing over the years, something that does not come along with the decreasing occurences in evictions in 2017-2019. For this reason, the mean gross rent should be compared with the respective household income (next chapter) in order to better justify the results."
   ]
  },
  {
   "cell_type": "code",
   "execution_count": null,
   "id": "f3d6b56b",
   "metadata": {},
   "outputs": [],
   "source": [
    "df_GRAPI = hous_2021[['GRPIU15E' , 'GRPI15t19E' , 'GRPI20t24E' , 'GRPI25t29E' , 'GRPI30plE' , 'GRPI50plE']].sum()\n",
    "plt.bar(df_GRAPI.index, df_GRAPI, width=0.6, color=plot_color_1)\n",
    "plt.xticks(ticks=range(len(df_GRAPI)), labels=['<15%', '15-19%', '20-24%','25-29%','>30%','>50%'])\n",
    "plt.title('Gross Rent as a Percent of Household Income for 2021')\n",
    "plt.xlabel('Percentage of Income')\n",
    "plt.ylabel('Frequency')\n",
    "plt.show()"
   ]
  },
  {
   "cell_type": "markdown",
   "id": "5e3078b8",
   "metadata": {},
   "source": [
    "Before analyzing the income, it was considered relevant to check also the percentage of the salary that people spend on their rent. Since the values of the ACS data do not differ significantly over the years, we decided to plot the file from 2021 since it is the newest one and is a 5-year-estimate, so it contains information from 2016-2021. It can be seen that for the majority of the population, monthly rent accounts for more than 30% of households monthly income and a large amount more than 50%."
   ]
  },
  {
   "cell_type": "markdown",
   "id": "5130f55b",
   "metadata": {},
   "source": [
    "<a id='economic'></a>\n",
    "### 3g. Insigths about economic data"
   ]
  },
  {
   "cell_type": "code",
   "execution_count": null,
   "id": "09eb89f5",
   "metadata": {},
   "outputs": [],
   "source": [
    "df_income = econ_combined.groupby(['Year'])['MnHHIncE'].mean()\n",
    "plt.bar(df_income.index, df_income, width=0.5, color=plot_color_1)\n",
    "plt.plot(df_income, color=plot_color_2, linewidth=2)\n",
    "plt.ylabel('Mean Household Income in $')\n",
    "plt.xlabel('Year')\n",
    "plt.title('Average household income in NYC from 2017-2021')\n",
    "plt.show()"
   ]
  },
  {
   "cell_type": "code",
   "execution_count": null,
   "id": "4d210f60",
   "metadata": {},
   "outputs": [],
   "source": [
    "econ_combined.boxplot(column=['MnHHIncE'], by='Year', color=plot_color_1)\n",
    "plt.xlabel('Year')\n",
    "plt.ylabel('Mean Household Income in $')\n",
    "plt.title('Average household income')\n",
    "plt.suptitle('')\n",
    "plt.show()"
   ]
  },
  {
   "cell_type": "markdown",
   "id": "48b207ef",
   "metadata": {},
   "source": [
    "In our search for the annual household income, we found out that its mean value is increasing over the years. These findings come along with the rent prices that are increasing as well, and they also justify the decreasing occurences in evictions. A reasonable interpretation of the above two plots would be that since the income increases, the rent prices go up and thus a steady economic situation is retained with people paying their rent."
   ]
  },
  {
   "cell_type": "code",
   "execution_count": null,
   "id": "4e89e036",
   "metadata": {},
   "outputs": [],
   "source": [
    "df_industries = econ_2021.groupby(['Borough'])[['AgFFHME', 'ConstctnE','MnfctrngE','WhlsaleE','RetailE','TrWHUtE','InfoE','FIREE','PrfSMgAWME','EdHlthCSAE','ArtEnRAFSE','OthnotPAE','PubAdminE']].sum()\n",
    "df_industries.rename(columns = {'AgFFHME':'Agriculture', 'ConstctnE':'Construction', 'MnfctrngE':'Manufacturing', 'WhlsaleE':'Wholesale trade', 'RetailE':'Retail trade', 'TrWHUtE':'Transportation', 'InfoE':'Information', 'FIREE':'Finance and insurance','PrfSMgAWME':'Scientific, management','EdHlthCSAE':'Educational services','ArtEnRAFSE':'Arts and entertainment','OthnotPAE':'Other services','PubAdminE':'Public administration'}, inplace = True)\n",
    "df_industries['sum'] = df_industries.sum(axis=1)\n",
    "df_industries_ratio = df_industries.div(df_industries['sum'], axis=0)\n",
    "df_industries_ratio = df_industries_ratio.drop(['sum'], axis=1)\n",
    "\n",
    "c_1 = plotly.colors.sample_colorscale(px.colors.sequential.Agsunset_r, samplepoints=len(df_industries_ratio.T), colortype='tuple')\n",
    "agsunset_hex_1 = [] \n",
    "for row in c_1:\n",
    "    agsunset_hex_1.append(matplotlib.colors.to_hex(row))\n",
    "\n",
    "df_industries_ratio.plot.bar(color=agsunset_hex_1)\n",
    "plt.xlabel('Borough')\n",
    "plt.ylabel('People who work in specific industry in %')\n",
    "plt.xticks(rotation=0)\n",
    "plt.title('Distribution of poeple in NYC working in different industries per borough')\n",
    "plt.xlim(right=5.5)\n",
    "plt.show()"
   ]
  },
  {
   "cell_type": "markdown",
   "id": "45099dbe",
   "metadata": {},
   "source": [
    "Another instersting aspect that can enrich our research on evictions, is the distribution of diferrent professions among the civilian labor force of the city. Thus, we created the above plot that distinguishes the ratio of professions compared to the total population of each borough. It can be seen that Educational services (including healthcare and social assistance) is the field in which most people are employed with Bronx standing out with the highest ratio. Moreover, it is clear that Manhattan possesses the highest ratio in Finance and insurance recognized as a financial district worldwide while scientific and management fields are also dominating in Manhattan. Comparing the above with the eviction occurrences among the Boroughs, it can be inferred that the low ratio of evictions in Manhattan can be linked to the fact that a lot of people in this Borough are working in finance which is a highly paid field. "
   ]
  },
  {
   "cell_type": "code",
   "execution_count": null,
   "id": "98ffb93d",
   "metadata": {},
   "outputs": [],
   "source": [
    "amount_unemployed = econ_combined.groupby(['Year'])['CvLFUEm1E'].sum()\n",
    "amount_labor_force = econ_combined.groupby(['Year'])['CvLF1E'].sum()\n",
    "unemployed_ratio = amount_unemployed / amount_labor_force * 100\n",
    "\n",
    "plt.bar(unemployed_ratio.index, unemployed_ratio, width=0.5, color=plot_color_1)\n",
    "plt.plot(unemployed_ratio, color=plot_color_2, linewidth=2)\n",
    "plt.xlabel('Year')\n",
    "plt.ylabel('Unemployment Rate in %')\n",
    "plt.title('Unemployment Rate in NYC from 2017-2021')\n",
    "plt.show()"
   ]
  },
  {
   "cell_type": "markdown",
   "id": "a7fae54a",
   "metadata": {},
   "source": [
    "At this point, it makes sense to relate eviction incidents with the unemployment status of the city. In particular, from the supplementary dataset, the total unemployment percentage rate was calculated and plotted against the examined period. It is evident that unemployment in New York City is decreasing until 2019, while the outburst of COVID-19 in 2020 boosts the rates. The decrease in unemployment also justifies the downward trend of the evictions in the respective years."
   ]
  },
  {
   "cell_type": "markdown",
   "id": "e8b972e4",
   "metadata": {},
   "source": [
    "<a id='demographic'></a>\n",
    "### 3g. Insights about demographic data"
   ]
  },
  {
   "cell_type": "markdown",
   "id": "b0a1b6c4",
   "metadata": {},
   "source": [
    "Since evictions is a highly controversial phenomenon with many people in favor and against it, we want to check whether there is any correlation with targeted ethnicity groups. For this reason, we retrived information about ethnicity groups in the boroughs and tried to relate it with the corresponding eviction occurrences in these areas."
   ]
  },
  {
   "cell_type": "code",
   "execution_count": null,
   "id": "ef6a327b",
   "metadata": {},
   "outputs": [],
   "source": [
    "df_ethnicity = demo_2021[[\"Hsp1E\", \"WtNHE\", \"BlNHE\", \"AIANNHE\", \"AsnNHE\", \"NHPINHE\", \"OthNHE\", \"Rc2plNHE\"]]\n",
    "df_ethnicity.rename(columns = {'Hsp1E':'Latino', 'WtNHE':'White', 'BlNHE':'Black', 'AIANNHE':'American Indian', 'AsnNHE':'Asian alone', 'NHPINHE':'Pacific Islander alone', 'OthNHE':'Other race', 'Rc2plNHE':'Two or more races'}, inplace = True)\n",
    "\n",
    "df_ethnicity_plot = df_ethnicity.sum()\n",
    "plt.bar(df_ethnicity_plot.index, df_ethnicity_plot, width=0.6, color=plot_color_1)\n",
    "plt.title('Amount of different ethnicities living in NYC in 2021')\n",
    "plt.xlabel('Ethnicity')\n",
    "plt.ylabel('Frequency')\n",
    "plt.show()"
   ]
  },
  {
   "cell_type": "markdown",
   "id": "341fa3d7",
   "metadata": {},
   "source": [
    "In the above plot, you can see the distribution of ethnicities in the city of New York. It looks like the majority of the population is White people, Latino and then followed by Black people."
   ]
  },
  {
   "cell_type": "code",
   "execution_count": null,
   "id": "b9d7cb9e",
   "metadata": {},
   "outputs": [],
   "source": [
    "df_ethnicity = demo_2021.groupby([\"Borough\"])[[\"Hsp1E\", \"WtNHE\", \"BlNHE\", \"AIANNHE\", \"AsnNHE\", \"NHPINHE\", \"OthNHE\", \"Rc2plNHE\"]].sum()\n",
    "df_ethnicity.rename(columns = {'Hsp1E':'Latino', 'WtNHE':'White', 'BlNHE':'Black', 'AIANNHE':'American Indian', 'AsnNHE':'Asian alone', 'NHPINHE':'Pacific Islander alone', 'OthNHE':'Other race', 'Rc2plNHE':'Two or more races'}, inplace = True)\n",
    "df_ethnicity['sum'] = df_ethnicity.sum(axis=1)\n",
    "df_ethnicities_ratio = df_ethnicity.div(df_ethnicity['sum'], axis=0)\n",
    "df_ethnicities_ratio = df_ethnicities_ratio.drop(['sum'], axis=1)\n",
    "\n",
    "c_1 = plotly.colors.sample_colorscale(px.colors.sequential.Agsunset_r, samplepoints=len(df_ethnicities_ratio.T), colortype='tuple')\n",
    "agsunset_hex_1 = [] \n",
    "for row in c_1:\n",
    "    agsunset_hex_1.append(matplotlib.colors.to_hex(row))\n",
    "    \n",
    "df_ethnicities_ratio.plot.bar(color=agsunset_hex_1)\n",
    "plt.xlabel('Borough')\n",
    "plt.ylabel('Amount of people with ethnicity in %')\n",
    "plt.xticks(rotation=0)\n",
    "plt.title('Amount of people belonging to a certain ethnicity living in the boroughs')\n",
    "plt.xlim(right=5)\n",
    "plt.show()"
   ]
  },
  {
   "cell_type": "markdown",
   "id": "93e0484c",
   "metadata": {},
   "source": [
    "Based on the above plot, we observe the Bronx Borough is comprised mostly of Latinos and African Americans while White people form the minority of the borough. In contrast, Brooklyn is more or less, evenly distributed among White, Black and Latino ethnicities. Finally, Asian people seem to mostly reside in Queens, while is is evident that Staten Island Borough is mostly comprised of white ethnicities. Trying to correlate ethnicity groups with evictions, it can be noticed that the Bronx borough that has the highest number of evictions, is comprised of Latino and Black people. However, in order to be able to have a clearer and correct assumption on this, more investegation had to follow."
   ]
  },
  {
   "cell_type": "code",
   "execution_count": null,
   "id": "f786918d",
   "metadata": {},
   "outputs": [],
   "source": [
    "df_borough_pop = demo_2021.groupby(\"Borough\")['Pop_1E'].sum()\n",
    "plt.bar(df_borough_pop.index, df_borough_pop, width=0.5, color=plot_color_1)\n",
    "plt.xlabel('Borough')\n",
    "plt.ylabel('Amount of poeple')\n",
    "plt.title('Amount of poeple living in the Boroughs in NYC in 2021')\n",
    "plt.show()"
   ]
  },
  {
   "cell_type": "markdown",
   "id": "1b475346",
   "metadata": {},
   "source": [
    "From our initial dataset, we identified that Bronx is the borough with the most evictions. However, in order to be able to better intrepret that information, we decided to plot the respective populations on all the Boroughs. As you can see in the below plot, Brooklyn and Queens are the most populated boroughs while Bronx comes in 4th place. From this results, it makes sense to focus on the Bronx districts and its \"characteristics\" since the eviction cases are not proportional to the population."
   ]
  },
  {
   "cell_type": "markdown",
   "id": "e8a9c3aa",
   "metadata": {},
   "source": [
    "<a id='acsmap'></a>\n",
    "### 3i. Interactive map with ACS data"
   ]
  },
  {
   "cell_type": "code",
   "execution_count": null,
   "id": "d34a7f8b",
   "metadata": {},
   "outputs": [],
   "source": [
    "# merge all acs together\n",
    "merge = reduce(lambda left,right: pd.merge(left,right,on=['NTA', 'Year'],how='outer'), [hous_2018, econ_2018, soc_2018, demo_2018])"
   ]
  },
  {
   "cell_type": "code",
   "execution_count": null,
   "id": "4f70510f",
   "metadata": {},
   "outputs": [],
   "source": [
    "fig = go.Figure(go.Choroplethmapbox(\n",
    "        z=merge['MdGRE'], \n",
    "        geojson=nta_json, \n",
    "        locations=merge['NTA'],\n",
    "        #hoverinfo='all',\n",
    "        text = merge['NTA'],\n",
    "        hovertemplate = '<b>NTA</b>: <b>%{text}</b>'+'<br><b>Amount</b>: %{z}<br><extra></extra>',\n",
    "        marker_line_width=0.5, \n",
    "        marker_opacity=0.6,\n",
    "        colorscale='agsunset_r'))\n",
    "\n",
    "fig.update_layout(\n",
    "    margin={\"r\":0,\"t\":0,\"l\":0,\"b\":0},\n",
    "    #title= f'Title',\n",
    "    autosize=True,\n",
    "    hovermode='closest',\n",
    "    showlegend=True,\n",
    "    #width=950,\n",
    "    #height=600,\n",
    "    mapbox=dict(\n",
    "        #accesstoken=mapbox_access_token,\n",
    "        bearing=0,\n",
    "        center={\"lat\": 40.72, \"lon\": -73.93},\n",
    "        pitch=0,\n",
    "        zoom=9.1,\n",
    "        style=\"carto-positron\"\n",
    "        )) \n",
    "\n",
    "buttons = []\n",
    "features = acs_dict.copy()\n",
    "[features.pop(key) for key in ['Year', 'NTA', 'Borough', 'GRAPI >30']]\n",
    "for k, v in features.items():\n",
    "    button_dict = {'method': 'update',\n",
    "                  'label': k,\n",
    "                  'args': [{'z': [merge[v]]}]}\n",
    "    buttons.append(button_dict)\n",
    "    \n",
    "fig.update_layout(updatemenus=[dict(active=0,\n",
    "                                    buttons=buttons,\n",
    "                                    x = 0,\n",
    "                                    xanchor = 'left',\n",
    "                                    y = 1.1,\n",
    "                                    yanchor = 'top',\n",
    "                                    pad={\"r\": 10, \"t\": 10})])\n",
    "\n",
    "fig.show()"
   ]
  },
  {
   "cell_type": "markdown",
   "id": "724d61cc",
   "metadata": {},
   "source": [
    "The interactive map above shows different features that we are considering as relevant for evictions. Feel free to investigate yourself and click through the drop-down menu."
   ]
  },
  {
   "cell_type": "markdown",
   "id": "eae8b0d9",
   "metadata": {},
   "source": [
    "<a id='genre'></a>\n",
    "## 4. Genre"
   ]
  },
  {
   "cell_type": "markdown",
   "id": "0df84d76",
   "metadata": {},
   "source": [
    "For our story, we used magazine as genre. The reason why we decided to use this genre is due to the fact that magazines can captivate visuals. For specifically, magazines are popular for their ability to handle layouts, with graphics and photographies. This can draw the attention of the readers and make them focus on the details. Also, magazines can integrate multiple formats in their pages which provide different aspects and perspectives of the data, making them appealing for the readers. This genre is also ideal for an author-driven style to give an introduction to the story but let the reader explore the visualizations.\n",
    "\n",
    "From the Visual Narrative we used Consistent Visual Platfrom, Progress Bar and Feature Distinctions. The reason why we used Consistent Visual Platfrom is beacuse it is easier for the reader to follow the same colour layout while reading the data story. Since our main goal is evictions that took place in a specific period (2017-2023) we are using a Progress Bar to illustrate the evolution throughout these years. Finally, we focus on specific features of all the dataset which justifies our choice for Feature Distinctions.  \n",
    "\n",
    "From the Narrative Structure we used linear ordering since the magazine is author-driven but gives the possibility to the user to explore the visualizations. Moreover, Hover Highlighting and Filtering/Selection/Search are used for the interactive plots and maps. Finally, regarding messaging, we used Captions and Annotations to make it easier for the reader to understand the figures. Accompanying Articles support our findings and the Introductory Text was used to give a brief explanation to the topic and datasets. "
   ]
  },
  {
   "cell_type": "markdown",
   "id": "bff019c1",
   "metadata": {},
   "source": [
    "<a id='visualizations'></a>\n",
    "## 5. Visualizations"
   ]
  },
  {
   "cell_type": "markdown",
   "id": "d9624e07",
   "metadata": {},
   "source": [
    "The visualizations that we chose for our project are bar charts, donut charts, boxplots and choropleth maps. \n",
    "\n",
    "Donut charts were used in order to show ratios. Bar plots are used since they provide an effective way to compare different categories or groups. In our case, we mainly compared the evictions during the examined years integrating the social, demographic, economic and housing data. Apart from that, we used boxplots to visualize the distribution of income and rent. Useful statistics including the range, median, quartiles, and outliers can be extracted. Finally, the choropleth maps are healpful for visual representation of data across geographic regions. Our datasets contain geographic information of New York City and specifically the NTA's where the evictions took place making choropleth maps a great visualization tool."
   ]
  },
  {
   "cell_type": "markdown",
   "id": "ab7ac1c0",
   "metadata": {},
   "source": [
    "<a id='discussion'></a>\n",
    "## 6. Discussion"
   ]
  },
  {
   "cell_type": "markdown",
   "id": "252a88fd",
   "metadata": {},
   "source": [
    "Our main goal was to analyze evictions in New York City. \n",
    "We discovered that COVID-19 has affected the occurrences dramatically. Indeed, it is clear that the legal regulations about stopping evictions strong impact on the development. \n",
    "Looking into economic and housing data we also showed that the rent prices are increasing together with the gross salary and the unemployment percentage is decreasing between 2017-2019 which is probably the driving factor for the decrease in evictions during this period. Finally, we correlated the evictions with economic and demographic data giving insights into industries the people are working in and ethnicities. The analysis showed that more than 35% of people living in the Bronx are working in Educational Services, Healthcare, Social Assistance, while a remarkable point is that in Manhattan where evictions are rathr low, the labor force is mainly working in Finance which is correlated with higher salaries.   \n",
    "\n",
    "We decided to leave out records with exact geo location which is a total of 68207/75443 = 9,6% of the data. We could improve our analysis by using the provided addresses and a package that can turn these to latitudes and longitudes.\n",
    "After the data cleaning the eviction dataset is missing some values for the Building Identification number. We also noticed some human noise in this column since there is a high amount of evictions for buildings with the BIN 2000000 and 3000000 but the addresses and NTA's are not the same. We could improve the analysis using the exact geo locations here as well.\n",
    "Another interesting connection are rates of homeless people in NYC, which could be a topic of future analysis."
   ]
  },
  {
   "cell_type": "markdown",
   "id": "f0443158",
   "metadata": {},
   "source": [
    "<a id='contributions'></a>\n",
    "## 7. Contributions"
   ]
  },
  {
   "cell_type": "markdown",
   "id": "5e99f53f",
   "metadata": {},
   "source": [
    "Lead roles:\n",
    "\n",
    "- Andronikos Nikolos: Story, Descriptions of figures\n",
    "\n",
    "- Ioannis Koumaniotis: Analysis of ACS data, Plots\n",
    "\n",
    "- Franziska Marie Bäuerlein: Data preprocessing, Interactive plots and maps, Website"
   ]
  },
  {
   "cell_type": "markdown",
   "id": "f16a69a9",
   "metadata": {},
   "source": [
    "<a id='references'></a>\n",
    "## 8. References"
   ]
  },
  {
   "cell_type": "markdown",
   "id": "997b6ff6",
   "metadata": {},
   "source": [
    "Evictions https://data.cityofnewyork.us/City-Government/Evictions/6z8x-wfk4\n",
    "\n",
    "ACS data https://www.nyc.gov/site/planning/planning-level/nyc-population/american-community-survey.page\n",
    "\n",
    "2010 NTA maps https://data.cityofnewyork.us/City-Government/NTA-map/d3qk-pfyz\n",
    "\n",
    "2020 NTA maps https://www.nyc.gov/site/planning/data-maps/open-data/census-download-metadata.page\n",
    "\n",
    "NYC eviction rate continues to rise since ban was lifted, as homelessness surges (https://gothamist.com/news/nyc-eviction-rate-continues-to-rise-since-ban-was-lifted-as-homelessness-surges, David Brand 18th Jan 2023)"
   ]
  }
 ],
 "metadata": {
  "kernelspec": {
   "display_name": "Python 3 (ipykernel)",
   "language": "python",
   "name": "python3"
  },
  "language_info": {
   "codemirror_mode": {
    "name": "ipython",
    "version": 3
   },
   "file_extension": ".py",
   "mimetype": "text/x-python",
   "name": "python",
   "nbconvert_exporter": "python",
   "pygments_lexer": "ipython3",
   "version": "3.9.12"
  }
 },
 "nbformat": 4,
 "nbformat_minor": 5
}
