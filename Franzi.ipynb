{
 "cells": [
  {
   "cell_type": "markdown",
   "id": "b7101c1b",
   "metadata": {},
   "source": [
    "## Note: I didn't run the maps because otherwise the notebook gets over 100MB and that's to big to push to github (:"
   ]
  },
  {
   "cell_type": "markdown",
   "id": "c8f123ce",
   "metadata": {},
   "source": [
    "## Importing packages"
   ]
  },
  {
   "cell_type": "code",
   "execution_count": 2,
   "id": "538c3d83",
   "metadata": {},
   "outputs": [],
   "source": [
    "import pandas as pd\n",
    "import numpy as np\n",
    "import matplotlib.pyplot as plt\n",
    "import matplotlib\n",
    "import json \n",
    "from urllib import request\n",
    "import plotly.express as px\n",
    "import plotly.graph_objs as go\n",
    "import plotly\n",
    "import os"
   ]
  },
  {
   "cell_type": "code",
   "execution_count": 3,
   "id": "7f93b4ca",
   "metadata": {},
   "outputs": [],
   "source": [
    "# graph settings\n",
    "%matplotlib inline\n",
    "matplotlib.rcParams['font.sans-serif'] = \"Helvetica\"\n",
    "matplotlib.rcParams['font.family'] = \"sans-serif\""
   ]
  },
  {
   "cell_type": "markdown",
   "id": "dfd3b559",
   "metadata": {},
   "source": [
    "## Loading and cleaning data"
   ]
  },
  {
   "cell_type": "code",
   "execution_count": 4,
   "id": "b4da975d",
   "metadata": {},
   "outputs": [],
   "source": [
    "df = pd.read_csv('Evictions.csv')"
   ]
  },
  {
   "cell_type": "code",
   "execution_count": 5,
   "id": "2e88d559",
   "metadata": {},
   "outputs": [
    {
     "data": {
      "text/html": [
       "<div>\n",
       "<style scoped>\n",
       "    .dataframe tbody tr th:only-of-type {\n",
       "        vertical-align: middle;\n",
       "    }\n",
       "\n",
       "    .dataframe tbody tr th {\n",
       "        vertical-align: top;\n",
       "    }\n",
       "\n",
       "    .dataframe thead th {\n",
       "        text-align: right;\n",
       "    }\n",
       "</style>\n",
       "<table border=\"1\" class=\"dataframe\">\n",
       "  <thead>\n",
       "    <tr style=\"text-align: right;\">\n",
       "      <th></th>\n",
       "      <th>Court Index Number</th>\n",
       "      <th>Docket Number</th>\n",
       "      <th>Eviction Address</th>\n",
       "      <th>Eviction Apartment Number</th>\n",
       "      <th>Executed Date</th>\n",
       "      <th>Marshal First Name</th>\n",
       "      <th>Marshal Last Name</th>\n",
       "      <th>Residential/Commercial</th>\n",
       "      <th>BOROUGH</th>\n",
       "      <th>Eviction Postcode</th>\n",
       "      <th>Ejectment</th>\n",
       "      <th>Eviction/Legal Possession</th>\n",
       "      <th>Latitude</th>\n",
       "      <th>Longitude</th>\n",
       "      <th>Community Board</th>\n",
       "      <th>Council District</th>\n",
       "      <th>Census Tract</th>\n",
       "      <th>BIN</th>\n",
       "      <th>BBL</th>\n",
       "      <th>NTA</th>\n",
       "    </tr>\n",
       "  </thead>\n",
       "  <tbody>\n",
       "    <tr>\n",
       "      <th>0</th>\n",
       "      <td>48174/18</td>\n",
       "      <td>349487</td>\n",
       "      <td>1238 BOYNTON AVENUE</td>\n",
       "      <td>1R</td>\n",
       "      <td>03/08/2019</td>\n",
       "      <td>Thomas</td>\n",
       "      <td>Bia</td>\n",
       "      <td>Residential</td>\n",
       "      <td>BRONX</td>\n",
       "      <td>10472</td>\n",
       "      <td>Not an Ejectment</td>\n",
       "      <td>Possession</td>\n",
       "      <td>40.829759</td>\n",
       "      <td>-73.878482</td>\n",
       "      <td>9.0</td>\n",
       "      <td>18.0</td>\n",
       "      <td>54.0</td>\n",
       "      <td>2025234.0</td>\n",
       "      <td>2.037740e+09</td>\n",
       "      <td>West Farms-Bronx River</td>\n",
       "    </tr>\n",
       "    <tr>\n",
       "      <th>1</th>\n",
       "      <td>B35706/18</td>\n",
       "      <td>108013</td>\n",
       "      <td>3235 GRAND CONCOURSE</td>\n",
       "      <td>6C</td>\n",
       "      <td>10/03/2018</td>\n",
       "      <td>Darlene</td>\n",
       "      <td>Barone</td>\n",
       "      <td>Residential</td>\n",
       "      <td>BRONX</td>\n",
       "      <td>10468</td>\n",
       "      <td>Not an Ejectment</td>\n",
       "      <td>Possession</td>\n",
       "      <td>40.877488</td>\n",
       "      <td>-73.885258</td>\n",
       "      <td>7.0</td>\n",
       "      <td>11.0</td>\n",
       "      <td>411.0</td>\n",
       "      <td>2017667.0</td>\n",
       "      <td>2.033230e+09</td>\n",
       "      <td>Bedford Park-Fordham North</td>\n",
       "    </tr>\n",
       "    <tr>\n",
       "      <th>2</th>\n",
       "      <td>55095/17</td>\n",
       "      <td>10840</td>\n",
       "      <td>640 E 86TH STREET</td>\n",
       "      <td>NaN</td>\n",
       "      <td>07/25/2017</td>\n",
       "      <td>Edward</td>\n",
       "      <td>Guida</td>\n",
       "      <td>Residential</td>\n",
       "      <td>BROOKLYN</td>\n",
       "      <td>11236</td>\n",
       "      <td>Not an Ejectment</td>\n",
       "      <td>Possession</td>\n",
       "      <td>40.640733</td>\n",
       "      <td>-73.911547</td>\n",
       "      <td>18.0</td>\n",
       "      <td>46.0</td>\n",
       "      <td>958.0</td>\n",
       "      <td>3223963.0</td>\n",
       "      <td>3.079900e+09</td>\n",
       "      <td>Canarsie</td>\n",
       "    </tr>\n",
       "    <tr>\n",
       "      <th>3</th>\n",
       "      <td>Q72651/16</td>\n",
       "      <td>75106</td>\n",
       "      <td>148-41 236 STREET</td>\n",
       "      <td>NaN</td>\n",
       "      <td>03/31/2017</td>\n",
       "      <td>Ileana</td>\n",
       "      <td>Rivera</td>\n",
       "      <td>Residential</td>\n",
       "      <td>QUEENS</td>\n",
       "      <td>11422</td>\n",
       "      <td>Not an Ejectment</td>\n",
       "      <td>Possession</td>\n",
       "      <td>40.653782</td>\n",
       "      <td>-73.747053</td>\n",
       "      <td>13.0</td>\n",
       "      <td>31.0</td>\n",
       "      <td>694.0</td>\n",
       "      <td>4443919.0</td>\n",
       "      <td>4.137360e+09</td>\n",
       "      <td>Springfield Gardens South-Brookville</td>\n",
       "    </tr>\n",
       "    <tr>\n",
       "      <th>4</th>\n",
       "      <td>64094/17</td>\n",
       "      <td>11817</td>\n",
       "      <td>38-32 29TH STREET</td>\n",
       "      <td>1</td>\n",
       "      <td>08/16/2017</td>\n",
       "      <td>Edward</td>\n",
       "      <td>Guida</td>\n",
       "      <td>Residential</td>\n",
       "      <td>QUEENS</td>\n",
       "      <td>11101</td>\n",
       "      <td>Not an Ejectment</td>\n",
       "      <td>Possession</td>\n",
       "      <td>40.754198</td>\n",
       "      <td>-73.933916</td>\n",
       "      <td>1.0</td>\n",
       "      <td>26.0</td>\n",
       "      <td>31.0</td>\n",
       "      <td>4004669.0</td>\n",
       "      <td>4.003850e+09</td>\n",
       "      <td>Queensbridge-Ravenswood-Long Island City</td>\n",
       "    </tr>\n",
       "  </tbody>\n",
       "</table>\n",
       "</div>"
      ],
      "text/plain": [
       "  Court Index Number  Docket Number       Eviction Address  \\\n",
       "0           48174/18          349487   1238 BOYNTON AVENUE   \n",
       "1          B35706/18          108013  3235 GRAND CONCOURSE   \n",
       "2           55095/17           10840     640 E 86TH STREET   \n",
       "3          Q72651/16           75106     148-41 236 STREET   \n",
       "4           64094/17           11817     38-32 29TH STREET   \n",
       "\n",
       "  Eviction Apartment Number Executed Date Marshal First Name  \\\n",
       "0                        1R    03/08/2019             Thomas   \n",
       "1                        6C    10/03/2018            Darlene   \n",
       "2                       NaN    07/25/2017             Edward   \n",
       "3                       NaN    03/31/2017             Ileana   \n",
       "4                         1    08/16/2017             Edward   \n",
       "\n",
       "  Marshal Last Name Residential/Commercial   BOROUGH  Eviction Postcode  \\\n",
       "0               Bia            Residential     BRONX              10472   \n",
       "1            Barone            Residential     BRONX              10468   \n",
       "2             Guida            Residential  BROOKLYN              11236   \n",
       "3            Rivera            Residential    QUEENS              11422   \n",
       "4             Guida            Residential    QUEENS              11101   \n",
       "\n",
       "          Ejectment Eviction/Legal Possession   Latitude  Longitude  \\\n",
       "0  Not an Ejectment                Possession  40.829759 -73.878482   \n",
       "1  Not an Ejectment                Possession  40.877488 -73.885258   \n",
       "2  Not an Ejectment                Possession  40.640733 -73.911547   \n",
       "3  Not an Ejectment                Possession  40.653782 -73.747053   \n",
       "4  Not an Ejectment                Possession  40.754198 -73.933916   \n",
       "\n",
       "   Community Board  Council District  Census Tract        BIN           BBL  \\\n",
       "0              9.0              18.0          54.0  2025234.0  2.037740e+09   \n",
       "1              7.0              11.0         411.0  2017667.0  2.033230e+09   \n",
       "2             18.0              46.0         958.0  3223963.0  3.079900e+09   \n",
       "3             13.0              31.0         694.0  4443919.0  4.137360e+09   \n",
       "4              1.0              26.0          31.0  4004669.0  4.003850e+09   \n",
       "\n",
       "                                        NTA  \n",
       "0                    West Farms-Bronx River  \n",
       "1                Bedford Park-Fordham North  \n",
       "2                                  Canarsie  \n",
       "3      Springfield Gardens South-Brookville  \n",
       "4  Queensbridge-Ravenswood-Long Island City  "
      ]
     },
     "execution_count": 5,
     "metadata": {},
     "output_type": "execute_result"
    }
   ],
   "source": [
    "df.head()"
   ]
  },
  {
   "cell_type": "code",
   "execution_count": 6,
   "id": "05af52a0",
   "metadata": {},
   "outputs": [],
   "source": [
    "df['Executed Date'] = df['Executed Date'].apply(pd.to_datetime)"
   ]
  },
  {
   "cell_type": "code",
   "execution_count": 7,
   "id": "7fb18997",
   "metadata": {},
   "outputs": [],
   "source": [
    "df['Marshal Full Name'] = df['Marshal First Name'] + ' ' + df['Marshal Last Name']"
   ]
  },
  {
   "cell_type": "code",
   "execution_count": 8,
   "id": "46a56ed3",
   "metadata": {},
   "outputs": [],
   "source": [
    "df = df.copy().dropna(subset=['NTA'])"
   ]
  },
  {
   "cell_type": "code",
   "execution_count": 9,
   "id": "be75e861",
   "metadata": {},
   "outputs": [],
   "source": [
    "# load data from directories and declare with variable name\n",
    "myVars = vars()\n",
    "def load_data(directory, data):\n",
    "    for filename in os.listdir(directory):\n",
    "        # filter out hidden files because they start with .\n",
    "        if not filename.startswith('.'):\n",
    "            # assign following name\n",
    "            variable_name = \"_\".join(filename.split(\"_\", 2)[:2])\n",
    "            data.append(variable_name)\n",
    "            myVars[variable_name] = pd.read_excel(directory+'/'+filename)\n",
    "            year = int(variable_name.split(\"_\")[1])\n",
    "            myVars[variable_name]['year'] = year\n",
    "            if year == 2017:\n",
    "                myVars[variable_name] = myVars[variable_name].rename(columns={'GeoName': 'NTA'})\n",
    "            else:\n",
    "                myVars[variable_name] = myVars[variable_name].rename(columns={'GeogName': 'NTA'})\n",
    "    return data"
   ]
  },
  {
   "cell_type": "code",
   "execution_count": 10,
   "id": "789835d2",
   "metadata": {},
   "outputs": [],
   "source": [
    "# load all of the asc survey data\n",
    "directories = ['housing_data', 'economic_data', 'social_data', 'demographic_data']\n",
    "data = []\n",
    "for directory in directories:\n",
    "    data = load_data(directory, data)"
   ]
  },
  {
   "cell_type": "code",
   "execution_count": 11,
   "id": "40011e1d",
   "metadata": {},
   "outputs": [],
   "source": [
    "# load the nta boundaries for 2010 NTA's\n",
    "# https://data.cityofnewyork.us/City-Government/NTA-map/d3qk-pfyz\n",
    "with open('NTA_map.geojson') as file:\n",
    "    nta_json = json.load(file)\n",
    "\n",
    "for i in list(range(len(nta_json['features']))):\n",
    "    json_id = nta_json['features'][i]['properties']['ntaname']\n",
    "    nta_json['features'][i]['id'] = json_id"
   ]
  },
  {
   "cell_type": "code",
   "execution_count": 12,
   "id": "a39eb3c9",
   "metadata": {},
   "outputs": [],
   "source": [
    "# loading the nta boundaries for 2020 NTA's\n",
    "url = 'https://services5.arcgis.com/GfwWNkhOj9bNBqoJ/arcgis/rest/services/NYC_Neighborhood_Tabulation_Areas_2020/FeatureServer/0/query?where=1=1&outFields=*&outSR=4326&f=pgeojson'\n",
    "with request.urlopen(url) as response:\n",
    "    nta_json_2020 = json.load(response)\n",
    "\n",
    "for i in list(range(len(nta_json_2020['features']))):\n",
    "    json_id = nta_json_2020['features'][i]['properties']['NTAName']\n",
    "    nta_json_2020['features'][i]['id'] = json_id"
   ]
  },
  {
   "cell_type": "code",
   "execution_count": 13,
   "id": "a58485b7",
   "metadata": {},
   "outputs": [],
   "source": [
    "# see what NTA's are not in json file\n",
    "def check_nta_matches(nta_json, data):\n",
    "    nta_list = []\n",
    "    for i in list(range(len(nta_json['features']))):\n",
    "        nta_list += [nta_json['features'][i]['id']]\n",
    "\n",
    "    missing = 0\n",
    "    same = 0\n",
    "    for nta in data['NTA'].unique():\n",
    "        if nta not in nta_list:\n",
    "            missing += 1\n",
    "            print('The following NTA is not in the json file:', nta)\n",
    "        else: same += 1\n",
    "    print('Same:',same)\n",
    "    print('Missing:',missing)"
   ]
  },
  {
   "cell_type": "code",
   "execution_count": 14,
   "id": "558b6be3",
   "metadata": {},
   "outputs": [
    {
     "name": "stdout",
     "output_type": "stream",
     "text": [
      "Same: 191\n",
      "Missing: 0\n"
     ]
    }
   ],
   "source": [
    "check_nta_matches(nta_json, df)"
   ]
  },
  {
   "cell_type": "code",
   "execution_count": 15,
   "id": "d1bc8fd5",
   "metadata": {
    "scrolled": true
   },
   "outputs": [
    {
     "name": "stdout",
     "output_type": "stream",
     "text": [
      "The following NTA is not in the json file: Hudson Yards-Chelsea-Flat Iron-Union Square\n",
      "Same: 194\n",
      "Missing: 1\n"
     ]
    }
   ],
   "source": [
    "check_nta_matches(nta_json, hous_2017)"
   ]
  },
  {
   "cell_type": "code",
   "execution_count": 16,
   "id": "8b0404fa",
   "metadata": {},
   "outputs": [],
   "source": [
    "# replace name of NTA in asc survey data with name used in eviction dataset and json file\n",
    "for file in data:\n",
    "    myVars[file] = myVars[file].replace('Hudson Yards-Chelsea-Flat Iron-Union Square', 'Hudson Yards-Chelsea-Flatiron-Union Square')"
   ]
  },
  {
   "cell_type": "code",
   "execution_count": 17,
   "id": "e2bc4fe7",
   "metadata": {
    "scrolled": true
   },
   "outputs": [
    {
     "name": "stdout",
     "output_type": "stream",
     "text": [
      "Same: 262\n",
      "Missing: 0\n"
     ]
    }
   ],
   "source": [
    "check_nta_matches(nta_json_2020, hous_2019)"
   ]
  },
  {
   "cell_type": "markdown",
   "id": "7b4c85f1",
   "metadata": {},
   "source": [
    "## Basic stats"
   ]
  },
  {
   "cell_type": "code",
   "execution_count": 18,
   "id": "efceee54",
   "metadata": {
    "scrolled": true
   },
   "outputs": [
    {
     "data": {
      "image/png": "[encoded data removed]",
      "text/plain": [
       "<Figure size 720x360 with 1 Axes>"
      ]
     },
     "metadata": {
      "needs_background": "light"
     },
     "output_type": "display_data"
    }
   ],
   "source": [
    "plt.figure(figsize=(10,5))\n",
    "df.groupby(df['Executed Date'].dt.year)['Executed Date'].count() \\\n",
    "    .plot(kind='bar', color='#2E5984')\n",
    "plt.xlabel('Year', size='14')\n",
    "plt.ylabel('Amount of evictions', size='14')\n",
    "plt.xticks(rotation=0, size='12')\n",
    "plt.yticks(size='12')\n",
    "plt.show()"
   ]
  },
  {
   "cell_type": "markdown",
   "id": "c864dbc7",
   "metadata": {},
   "source": [
    "Eviction during covid stopped (https://hcr.ny.gov/covid-19-eviction-protections-tenants)"
   ]
  },
  {
   "cell_type": "code",
   "execution_count": 19,
   "id": "5d716eef",
   "metadata": {},
   "outputs": [
    {
     "data": {
      "image/png": "[encoded data removed]",
      "text/plain": [
       "<Figure size 720x360 with 1 Axes>"
      ]
     },
     "metadata": {
      "needs_background": "light"
     },
     "output_type": "display_data"
    }
   ],
   "source": [
    "df.groupby(df['Marshal Full Name'])['Executed Date'].count() \\\n",
    "    .sort_values(ascending=False) \\\n",
    "    .plot(kind='bar', color='#2E5984', figsize=(10,5), width=0.6)\n",
    "plt.xlabel('Marshal', size='14')\n",
    "plt.ylabel('Amount of evictions', size='14')\n",
    "plt.xticks(rotation=90, size='12')\n",
    "plt.yticks(size='12')\n",
    "plt.show()"
   ]
  },
  {
   "cell_type": "code",
   "execution_count": 20,
   "id": "ba62d08b",
   "metadata": {
    "scrolled": true
   },
   "outputs": [
    {
     "data": {
      "image/png": "[encoded data removed]",
      "text/plain": [
       "<Figure size 576x360 with 1 Axes>"
      ]
     },
     "metadata": {
      "needs_background": "light"
     },
     "output_type": "display_data"
    }
   ],
   "source": [
    "df.groupby(df['BOROUGH'])['Executed Date'].count() \\\n",
    "    .sort_values(ascending=False) \\\n",
    "    .plot(kind='bar', color='#2E5984', figsize=(8,5))\n",
    "plt.xlabel('Borough', size='14')\n",
    "plt.ylabel('Amount of evictions', size='14')\n",
    "plt.xticks(rotation=0, size='12')\n",
    "plt.yticks(size='12')\n",
    "plt.show()"
   ]
  },
  {
   "cell_type": "markdown",
   "id": "6e51db69",
   "metadata": {},
   "source": [
    "## Evictions on map"
   ]
  },
  {
   "cell_type": "code",
   "execution_count": 21,
   "id": "4a1a8e9d",
   "metadata": {},
   "outputs": [],
   "source": [
    "map_data = df.groupby([df['Executed Date'].dt.year,'NTA'])['NTA'].count()\n",
    "map_data = map_data.rename('Evictions').to_frame().reset_index()\n",
    "map_data = map_data.rename(columns={'Executed Date': 'Year'})"
   ]
  },
  {
   "cell_type": "code",
   "execution_count": null,
   "id": "c6661a77",
   "metadata": {},
   "outputs": [],
   "source": [
    "fig = px.choropleth_mapbox(map_data, geojson=nta_json, locations='NTA', color='Evictions',\n",
    "                        color_continuous_scale=\"agsunset_r\",\n",
    "                        #range_color=(map_data['Evictions'].min(), map_data['Evictions'].max()),\n",
    "                        mapbox_style=\"carto-positron\",\n",
    "                        zoom=9.2, center = {\"lat\": 40.72, \"lon\": -73.93},\n",
    "                        labels={'random':'random'}, \n",
    "                        animation_frame='Year',\n",
    "                        width=950,\n",
    "                        height=600\n",
    "                        )\n",
    "fig.update_traces(marker_line_width=0.5, marker_opacity=0.6)\n",
    "fig.update_layout(margin={\"r\":0,\"t\":0,\"l\":0,\"b\":0})\n",
    "fig.show()"
   ]
  },
  {
   "cell_type": "markdown",
   "id": "474bd590",
   "metadata": {},
   "source": [
    "## Map to compare data "
   ]
  },
  {
   "cell_type": "code",
   "execution_count": 22,
   "id": "be2c7d9c",
   "metadata": {},
   "outputs": [],
   "source": [
    "hous2017_focus = hous_2017[['NTA', 'MdGRE', 'GRnoRntPdE']]\n",
    "hous2017_focus = hous2017_focus.rename(columns={'MdGRE':'Mean rent', 'GRnoRntPdE':'GRAPI'})"
   ]
  },
  {
   "cell_type": "code",
   "execution_count": 23,
   "id": "ac7d6b6a",
   "metadata": {},
   "outputs": [],
   "source": [
    "map_data_2 = df.groupby(['NTA'])['NTA'].count()\n",
    "map_data_2 = map_data_2.rename('Evictions').to_frame().reset_index()"
   ]
  },
  {
   "cell_type": "code",
   "execution_count": 24,
   "id": "352bc099",
   "metadata": {},
   "outputs": [],
   "source": [
    "merge = pd.merge(map_data_2, hous2017_focus, left_on=['NTA'], right_on=['NTA'], how='left')"
   ]
  },
  {
   "cell_type": "code",
   "execution_count": null,
   "id": "21593c29",
   "metadata": {},
   "outputs": [],
   "source": [
    "# mapbox_access_token = 'pk.eyJ1IjoiZnJhbnppMTI2IiwiYSI6ImNsZ3NiYnJhdzB2NTQzcG1rdzc0dmo4c2sifQ.8jxznVULScBVloaDu5Xhlw'\n",
    "\n",
    "cols_dd = [\"Evictions\", 'Mean rent', 'GRAPI']\n",
    "\n",
    "fig = go.Figure(go.Choroplethmapbox(\n",
    "        z=merge['Evictions'], \n",
    "        geojson=nta_json, \n",
    "        locations=merge['NTA'],\n",
    "        #hoverinfo='all',\n",
    "        text = merge['NTA'],\n",
    "        hovertemplate = '<b>NTA</b>: <b>%{text}</b>'+'<br><b>Evictions</b>: %{z}<br>',\n",
    "        marker_line_width=0.5, \n",
    "        marker_opacity=0.6,\n",
    "        colorscale=\"agsunset_r\"))\n",
    "\n",
    "fig.update_layout(\n",
    "    margin={\"r\":0,\"t\":0,\"l\":0,\"b\":0},\n",
    "    title= f'Title',\n",
    "    autosize=True,\n",
    "    hovermode='closest',\n",
    "    showlegend=False,\n",
    "    width=950,\n",
    "    height=600,\n",
    "    mapbox=dict(\n",
    "    #accesstoken=mapbox_access_token,\n",
    "        bearing=0,\n",
    "        center={\"lat\": 40.72, \"lon\": -73.93},\n",
    "        pitch=0,\n",
    "        zoom=9.2,\n",
    "        style=\"carto-positron\"\n",
    "        )) \n",
    "\n",
    "#Gross rent as a percentage of household income\n",
    "button1 = dict(method='update',\n",
    "              label='Evictions',\n",
    "              args=[{'z':[merge['Evictions']]}])\n",
    "button2 = dict(method='update',\n",
    "              label='Average rent',\n",
    "              args=[{'z':[merge['Mean rent']]}])\n",
    "button3 = dict(method='update',\n",
    "              label='GRAPI',\n",
    "              args=[{'z':[merge['GRAPI']]}])\n",
    "\n",
    "fig.update_layout(updatemenus=[dict(active=0,\n",
    "                                    buttons=[button1, button2, button3])])\n",
    "#fig.show()"
   ]
  },
  {
   "cell_type": "markdown",
   "id": "c56b0fdd",
   "metadata": {},
   "source": [
    "## Rent in NYC"
   ]
  },
  {
   "cell_type": "code",
   "execution_count": null,
   "id": "cc761a48",
   "metadata": {},
   "outputs": [],
   "source": [
    "# test nta map 2020 with new boundaries\n",
    "fig = px.choropleth_mapbox(hous_2020, geojson=nta_json_2020, locations='NTA', color='MdGRE',\n",
    "                           color_continuous_scale=\"agsunset_r\",\n",
    "                           #range_color=(map_data['Evictions'].min(), map_data['Evictions'].max()),\n",
    "                           mapbox_style=\"carto-positron\",\n",
    "                           zoom=9.2, center = {\"lat\": 40.72, \"lon\": -73.93},\n",
    "                           opacity=0.6,\n",
    "                           labels={'random':'random'}, \n",
    "                           #animation_frame='Year',\n",
    "                           width=950,\n",
    "                           height=600\n",
    "                          )\n",
    "fig.update_layout(margin={\"r\":0,\"t\":0,\"l\":0,\"b\":0})\n",
    "fig.update_traces(marker_line_width=0.5, marker_opacity=0.6)\n",
    "#fig.show()"
   ]
  },
  {
   "cell_type": "code",
   "execution_count": 25,
   "id": "8768ef58",
   "metadata": {},
   "outputs": [
    {
     "data": {
      "image/png": "[encoded data removed]",
      "text/plain": [
       "<Figure size 1080x720 with 2 Axes>"
      ]
     },
     "metadata": {
      "needs_background": "light"
     },
     "output_type": "display_data"
    }
   ],
   "source": [
    "fig, axs = plt.subplots(2,1,figsize=(15,10), sharex=True)\n",
    "fig.suptitle('Average rent prices in NYC 2017 compared to 2021', size=14)\n",
    "hous_2017['MdGRE'].plot(bins=30, kind='hist', color='#2E5984', rwidth=0.8, ax=axs[0])\n",
    "hous_2021['MdGRE'].plot(bins=30, kind='hist', color='#2E5984', rwidth=0.8, ax=axs[1])\n",
    "plt.xlabel('Average rent in NYC', size=12)\n",
    "fig.tight_layout()\n",
    "plt.show()"
   ]
  },
  {
   "cell_type": "code",
   "execution_count": 26,
   "id": "d48b2301",
   "metadata": {},
   "outputs": [
    {
     "name": "stdout",
     "output_type": "stream",
     "text": [
      "1407.4607329842931\n"
     ]
    }
   ],
   "source": [
    "# average rent 2017\n",
    "rent2017 = hous_2017['MdGRE'].mean()\n",
    "print(rent2017)"
   ]
  },
  {
   "cell_type": "code",
   "execution_count": 27,
   "id": "da65346e",
   "metadata": {},
   "outputs": [
    {
     "name": "stdout",
     "output_type": "stream",
     "text": [
      "1677.2892156862745\n"
     ]
    }
   ],
   "source": [
    "# average rent 2021\n",
    "rent2021 = hous_2021['MdGRE'].mean()\n",
    "print(rent2021)"
   ]
  },
  {
   "cell_type": "code",
   "execution_count": 28,
   "id": "dc45cd72",
   "metadata": {},
   "outputs": [
    {
     "name": "stdout",
     "output_type": "stream",
     "text": [
      "Increase of 19.2% in average rent from 2017 to 2021\n"
     ]
    }
   ],
   "source": [
    "print(f\"Increase of {round(rent2021/rent2017-1, 3)*100}% in average rent from 2017 to 2021\")"
   ]
  },
  {
   "cell_type": "markdown",
   "id": "3198f07b",
   "metadata": {},
   "source": [
    "### Average rent vs Income"
   ]
  },
  {
   "cell_type": "code",
   "execution_count": 29,
   "id": "235b423a",
   "metadata": {},
   "outputs": [],
   "source": [
    "hous_combined = pd.concat([hous_2017, hous_2018, hous_2019, hous_2020, hous_2021], axis=0)"
   ]
  },
  {
   "cell_type": "code",
   "execution_count": 30,
   "id": "eb69da5b",
   "metadata": {},
   "outputs": [],
   "source": [
    "hous_combined = hous_combined.dropna(subset=['MdGRE'])"
   ]
  },
  {
   "cell_type": "code",
   "execution_count": 31,
   "id": "27b1e741",
   "metadata": {},
   "outputs": [],
   "source": [
    "rent_mean = hous_combined.groupby(['year'])['MdGRE'].mean().to_frame().rename(columns={'MdGRE':'Average rent'}).reset_index()"
   ]
  },
  {
   "cell_type": "code",
   "execution_count": 32,
   "id": "d0c3c895",
   "metadata": {},
   "outputs": [],
   "source": [
    "econ_combined = pd.concat([econ_2017, econ_2018, econ_2019, econ_2020, econ_2021], axis=0)"
   ]
  },
  {
   "cell_type": "code",
   "execution_count": 33,
   "id": "9c5eebb9",
   "metadata": {},
   "outputs": [],
   "source": [
    "econ_combined = econ_combined.dropna(subset=['MnHHIncE'])"
   ]
  },
  {
   "cell_type": "code",
   "execution_count": 34,
   "id": "86e6cedc",
   "metadata": {},
   "outputs": [],
   "source": [
    "income_mean = econ_combined.groupby(['year'])['MnHHIncE'].mean().to_frame().rename(columns={'MnHHIncE':'Average income'}).reset_index()"
   ]
  },
  {
   "cell_type": "code",
   "execution_count": 35,
   "id": "d33274a6",
   "metadata": {},
   "outputs": [
    {
     "data": {
      "text/plain": [
       "<AxesSubplot:>"
      ]
     },
     "execution_count": 35,
     "metadata": {},
     "output_type": "execute_result"
    },
    {
     "data": {
      "image/png": "[encoded data removed]",
      "text/plain": [
       "<Figure size 1440x720 with 2 Axes>"
      ]
     },
     "metadata": {
      "needs_background": "light"
     },
     "output_type": "display_data"
    }
   ],
   "source": [
    "fig, ax = plt.subplots(figsize=(20,10)) \n",
    "\n",
    "income_mean.plot(x = 'year', y='Average income', ax = ax) \n",
    "rent_mean.plot(x='year', y='Average rent', ax = ax, secondary_y = True)\n",
    "#evictions_dev.plot(x='year', y='amount', ax = ax, secondary_y = True )"
   ]
  }
 ],
 "metadata": {
  "kernelspec": {
   "display_name": "Python 3 (ipykernel)",
   "language": "python",
   "name": "python3"
  },
  "language_info": {
   "codemirror_mode": {
    "name": "ipython",
    "version": 3
   },
   "file_extension": ".py",
   "mimetype": "text/x-python",
   "name": "python",
   "nbconvert_exporter": "python",
   "pygments_lexer": "ipython3",
   "version": "3.9.12"
  }
 },
 "nbformat": 4,
 "nbformat_minor": 5
}
