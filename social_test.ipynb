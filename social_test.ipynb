{
 "cells": [
  {
   "cell_type": "code",
   "execution_count": null,
   "id": "03ff684d",
   "metadata": {},
   "outputs": [],
   "source": [
    "import pandas as pd\n",
    "import matplotlib\n",
    "%matplotlib inline\n",
    "import matplotlib.pyplot as plt\n",
    "plt.style.use(\"ggplot\")\n",
    "plt.rcParams['figure.figsize'] = (12, 6)"
   ]
  },
  {
   "cell_type": "markdown",
   "id": "3b4a7867",
   "metadata": {},
   "source": [
    "The dataset we are using for the final project contains the registered evictions performed in New York City from 2017 until today. The motivation behind the decision to analyze evictions lies in our excitement to dive into social phenonemena and explain or illustrate their chronological development and their dependence on other factors. In our case, examining the reported evictions in a large-scale city as that of New York, could enlighten our knowledge on other relevant social matters such as the distribution of the economic wealth, the poverty levels of the population and the fluctuation in rent prices over the years. The decision on selecting the specific dataset is due to the fact that it can be inextricably linked and give an overview of the latent economic situation in a metropolitan area and give indicates for future analysis. Our goal is to give the end user the opportunity to explore these correlations and get a better understanding on the level of dependence of the attributes through interactive plots. The dataset can be found in the [New York opendata website.](https://data.cityofnewyork.us/City-Government/Evictions/6z8x-wfk4)"
   ]
  },
  {
   "cell_type": "code",
   "execution_count": null,
   "id": "d360fca4",
   "metadata": {},
   "outputs": [],
   "source": [
    "df = pd.read_csv('Evictions.csv')\n",
    "df.head()"
   ]
  },
  {
   "cell_type": "markdown",
   "id": "abfad854",
   "metadata": {},
   "source": [
    "The dataset spans over 70.000 records of evictions that have been performed since 2017. Out of the total 20 features, a first skim of the dataset reveals that the most suitable attributes for the analysis that could be extracted is the date of the eviction, the geographical location, the postalcode, the borough, the category and the mashal who performed it. "
   ]
  },
  {
   "cell_type": "markdown",
   "id": "38a808ab",
   "metadata": {},
   "source": [
    "Concerning data cleaning and preprocessing, it is worth mentioning that the dataset was inspected for missing values and it was decided to exclude the recorded evictions from which their geographical location (longitude, latitude) or the Neighborhood Tabulation Area (NTA) values were missing."
   ]
  },
  {
   "cell_type": "code",
   "execution_count": null,
   "id": "3cfcac33",
   "metadata": {},
   "outputs": [],
   "source": [
    "df = df.dropna(subset=['NTA'])\n",
    "df = df.drop(columns=['Eviction Apartment Number','BIN','BBL'])\n",
    "df.isnull().sum()"
   ]
  },
  {
   "cell_type": "code",
   "execution_count": null,
   "id": "cbeac599",
   "metadata": {},
   "outputs": [],
   "source": [
    "df['Executed Date'] = pd.to_datetime(df['Executed Date'])\n",
    "df['year'] = df['Executed Date'].dt.year"
   ]
  },
  {
   "cell_type": "code",
   "execution_count": null,
   "id": "0e6de005",
   "metadata": {},
   "outputs": [],
   "source": [
    "df.head()"
   ]
  },
  {
   "cell_type": "code",
   "execution_count": null,
   "id": "fcbee13d",
   "metadata": {},
   "outputs": [],
   "source": [
    "# REMOVE LONGITUDE AND LATITUDE OUTSIDE GREATER NEW YORK AREA\n",
    "minlong = -79.7624\n",
    "minlat =  40.4772\n",
    "maxlong = -71.7517\n",
    "maxlat =  45.0153\n",
    "\n",
    "masklong = ((df['Longitude'] >= minlong) & (df['Longitude'] <= maxlong)) & ((df['Longitude'] >= minlong) & (df['Longitude'] <= maxlong))\n",
    "df_ = (df.loc[masklong])\n",
    "\n",
    "\n",
    "masklat = ((df_['Latitude'] >= minlat) & (df_['Latitude'] <= maxlat)) & ((df_['Latitude'] >= minlat) & (df_['Latitude'] <= maxlat))\n",
    "df= (df_.loc[masklat])"
   ]
  },
  {
   "cell_type": "code",
   "execution_count": null,
   "id": "9335d38a",
   "metadata": {},
   "outputs": [],
   "source": [
    "x_axiss = [df.groupby(['year'])['year'].count().iloc[0], df.groupby(['year'])['year'].count().iloc[1], df.groupby(['year'])['year'].count().iloc[2], df.groupby(['year'])['year'].count().iloc[3], df.groupby(['year'])['year'].count().iloc[4], df.groupby(['year'])['year'].count().iloc[5], df.groupby(['year'])['year'].count().iloc[6]]\n",
    "df.groupby(['year'])['year'].count().plot.bar(x='year', y='years')\n",
    "plt.plot(x_axiss, marker='*', color='black', ms=10)\n",
    "plt.xlabel('Years')\n",
    "plt.ylabel('Eviction Occurrences')\n",
    "plt.xticks(rotation=0, size=12)\n",
    "plt.show()"
   ]
  },
  {
   "cell_type": "markdown",
   "id": "3143c53f",
   "metadata": {},
   "source": [
    "The first plotted histogram depicts the distribution of the number of evictions in the examined period and with a first glimpse, it can easily become evident that COVID-19 has affected dramatically the occurrences. Based on this, a targeted research on articles concerning the Covid period with the performed evictions followed, only to find out, that it was a governmental decision to freeze planned evictions for tenants who had financial problems during that period."
   ]
  },
  {
   "cell_type": "code",
   "execution_count": null,
   "id": "2cfcc027",
   "metadata": {},
   "outputs": [],
   "source": [
    "df[\"Full Name\"] = df['Marshal First Name']+\" \"+ df[\"Marshal Last Name\"]"
   ]
  },
  {
   "cell_type": "code",
   "execution_count": null,
   "id": "b3767e33",
   "metadata": {},
   "outputs": [],
   "source": [
    "df.groupby(\"Full Name\")['Full Name'].count().sort_values( ascending=False).plot.bar(y='marshals', x='Full Name')\n",
    "plt.xlabel('Marshals')\n",
    "plt.ylabel('Eviction Occurrences')\n",
    "plt.show()"
   ]
  },
  {
   "cell_type": "markdown",
   "id": "0cbdd0c1",
   "metadata": {},
   "source": [
    "Another interesting information that we derived from the initial dataset is the list of marshals who performed the evictions over the years. The information someone could obtain from this plot is that there is a relatively small number of officers specializing in evictions for such a big city as New York while it is even more interesting to see that a specific police marshal has been in charge for performing most of them."
   ]
  },
  {
   "cell_type": "code",
   "execution_count": null,
   "id": "07fbb012",
   "metadata": {},
   "outputs": [],
   "source": [
    "df_count = df.groupby(['Full Name','year'])['year'].count().reset_index(name='counts')"
   ]
  },
  {
   "cell_type": "code",
   "execution_count": null,
   "id": "866ab829",
   "metadata": {},
   "outputs": [],
   "source": [
    "df_count"
   ]
  },
  {
   "cell_type": "code",
   "execution_count": null,
   "id": "dab1c055",
   "metadata": {},
   "outputs": [],
   "source": [
    "df.groupby(\"BOROUGH\")['BOROUGH'].count().sort_values(ascending=False).plot.bar(y='count_BOROUGH', x='BOROUGH')\n",
    "plt.xlabel('Boroughs')\n",
    "plt.ylabel('Eviction Occurrences')\n",
    "plt.xticks(rotation=0)\n",
    "plt.show()"
   ]
  },
  {
   "cell_type": "markdown",
   "id": "25d17fcb",
   "metadata": {},
   "source": [
    "At this point, a distribution of the evictions over the boroughs of NEW YORK was plotted in order to get a first view on the hotspot areas. The borough plot reveals that Bronx stands out with the highest number of recorded evictions followed by BROOKLYN. This information would later be enhanced by plotting the Neighborhood Tabulation Areas (NTAs) in an interactive geo map to investigate further which areas could be considered as eviction \"hotspots\". Even more, we considered appropriate to search for the rental prices and the annual income in the distinct NTA in order to better interpret and elaborate on our analysis."
   ]
  },
  {
   "cell_type": "code",
   "execution_count": null,
   "id": "659b063d",
   "metadata": {},
   "outputs": [],
   "source": []
  },
  {
   "cell_type": "code",
   "execution_count": null,
   "id": "6ab57d7d",
   "metadata": {},
   "outputs": [],
   "source": []
  },
  {
   "cell_type": "markdown",
   "id": "37e3b84d",
   "metadata": {},
   "source": [
    "The last information derived from our initial dataset is an interactive map of the 195 listed neighborhoods (NTAs) and with the occurences of evictions spanned over the years.\n",
    "\n",
    "4th plot -> interactive maps of NTAs and evictions (last plot on video )"
   ]
  },
  {
   "cell_type": "markdown",
   "id": "1054f63e",
   "metadata": {},
   "source": [
    "Analyzing the above, it was judged necessary to incorporate more information about the specified area that could justify or interpret the number of evictions in the examined years. Thus, we searched for economic, social, housing and demographic data of our area and we derived them from the American Community survey website. (dataource here)"
   ]
  },
  {
   "cell_type": "markdown",
   "id": "45116101",
   "metadata": {},
   "source": [
    "### Housing Data"
   ]
  },
  {
   "cell_type": "code",
   "execution_count": null,
   "id": "e22570cc",
   "metadata": {},
   "outputs": [],
   "source": [
    "hous_17 = pd.read_excel('housing_data/hous_2017_acs5yr_nta.xlsx')\n",
    "hous_18 = pd.read_excel('housing_data/hous_2018_acs5yr_nta.xlsx')\n",
    "hous_19 = pd.read_excel('housing_data/hous_2019_acs5yr_nta.xlsx')\n",
    "hous_20 = pd.read_excel('housing_data/hous_2020_acs5yr_nta.xlsx')\n",
    "hous_21 = pd.read_excel('housing_data/hous_2021_acs5yr_nta.xlsx')"
   ]
  },
  {
   "cell_type": "code",
   "execution_count": null,
   "id": "c8cd026a",
   "metadata": {},
   "outputs": [],
   "source": [
    "hous_17['year'] = 2017\n",
    "hous_18['year'] = 2018\n",
    "hous_19['year'] = 2019\n",
    "hous_20['year'] = 2020\n",
    "hous_21['year'] = 2021"
   ]
  },
  {
   "cell_type": "code",
   "execution_count": null,
   "id": "c5116b33",
   "metadata": {},
   "outputs": [],
   "source": [
    "hous17 = hous_17[['year','GeoName','MdGRE']]\n",
    "hous18 = hous_18[['year','GeogName','MdGRE']]\n",
    "hous19 = hous_19[['year','GeogName','MdGRE']]\n",
    "hous20 = hous_20[['year','GeogName','MdGRE']]\n",
    "hous21 = hous_21[['year','GeogName','MdGRE']]"
   ]
  },
  {
   "cell_type": "code",
   "execution_count": null,
   "id": "aede3335",
   "metadata": {},
   "outputs": [],
   "source": [
    "housing_data = pd.concat([hous17, hous18, hous19, hous20, hous21], axis=0)"
   ]
  },
  {
   "cell_type": "code",
   "execution_count": null,
   "id": "ebcfa2f3",
   "metadata": {},
   "outputs": [],
   "source": [
    "housing_data = housing_data.dropna(subset=['MdGRE'])\n",
    "housing_data.head() "
   ]
  },
  {
   "cell_type": "code",
   "execution_count": null,
   "id": "97385503",
   "metadata": {},
   "outputs": [],
   "source": [
    "x_axis = [housing_data.groupby(['year'])['MdGRE'].mean().iloc[0], housing_data.groupby(['year'])['MdGRE'].mean().iloc[1], housing_data.groupby(['year'])['MdGRE'].mean().iloc[2], housing_data.groupby(['year'])['MdGRE'].mean().iloc[3], housing_data.groupby(['year'])['MdGRE'].mean().iloc[4]]\n",
    "housing_data.groupby(['year'])['MdGRE'].mean().plot.bar(y='MdGRE', x='year')\n",
    "plt.plot(x_axis, marker='*', color='black', ms=10)\n",
    "plt.ylabel('Mean Gross Rent')\n",
    "plt.xlabel('year')\n",
    "plt.show()"
   ]
  },
  {
   "cell_type": "markdown",
   "id": "b5fbd8d8",
   "metadata": {},
   "source": [
    "The first thing someone has to search for in order to analyze evictions, is the respective Rent prices as well as the Household income spanned over the examined period. In this regard, we have plotted in the above figure the Mean Gross Rent over the years. It can be seen that Rent prices are steadily increasing over the years, something that does not come along with the decreasing occurences in evictions in the period. For this reason, the mean gross rent should be compared with the respective household income in order to better justify the results."
   ]
  },
  {
   "cell_type": "code",
   "execution_count": null,
   "id": "c882cc0b",
   "metadata": {},
   "outputs": [],
   "source": [
    "housing_data.boxplot(column=['MdGRE'], by='year')\n",
    "plt.xticks(rotation=90);"
   ]
  },
  {
   "cell_type": "markdown",
   "id": "603c2f9a",
   "metadata": {},
   "source": [
    "### GROSS RENT AS A PERCENTAGE OF HOUSEHOLD INCOME (GRAPI)"
   ]
  },
  {
   "cell_type": "code",
   "execution_count": null,
   "id": "835fbf93",
   "metadata": {},
   "outputs": [],
   "source": [
    "hous17_ratio = hous_17[['GRPIU15E' , 'GRPI15t19E' , 'GRPI20t24E' , 'GRPI25t29E' , 'GRPI30t34E' , 'GRPI35plE' , 'GRPI50plE']]\n",
    "hous18_ratio = hous_18[['GRPIU15E' , 'GRPI15t19E' , 'GRPI20t24E' , 'GRPI25t29E' , 'GRPI30t34E' , 'GRPI35plE' , 'GRPI50plE']]\n",
    "hous19_ratio = hous_19[['GRPIU15E' , 'GRPI15t19E' , 'GRPI20t24E' , 'GRPI25t29E' , 'GRPI30t34E' , 'GRPI35plE' , 'GRPI50plE']]\n",
    "hous20_ratio = hous_20[['GRPIU15E' , 'GRPI15t19E' , 'GRPI20t24E' , 'GRPI25t29E' , 'GRPI30plE' , 'GRPI50plE']]\n",
    "hous21_ratio = hous_21[['GRPIU15E' , 'GRPI15t19E' , 'GRPI20t24E' , 'GRPI25t29E' , 'GRPI30plE' , 'GRPI50plE']]\n",
    "hous_ratio = [hous17_ratio, hous18_ratio, hous19_ratio, hous20_ratio, hous21_ratio]"
   ]
  },
  {
   "cell_type": "code",
   "execution_count": null,
   "id": "5cc4c737",
   "metadata": {
    "scrolled": false
   },
   "outputs": [],
   "source": [
    "plt.figure(figsize=(20, 15))\n",
    "plt.subplots_adjust(wspace=0.3)\n",
    "plt.subplots_adjust(hspace=0.6)\n",
    "#hous_ratio = [hous17_ratio, hous18_ratio, hous19_ratio, hous20_ratio, hous21_ratio]\n",
    "title_year =['2017','2018','2019','2020','2021']\n",
    "\n",
    "for n, category in enumerate(hous_ratio):\n",
    "    ax = plt.subplot(2, 3, n + 1)\n",
    "    if n <= 2:\n",
    "        hous_ratio[n].sum().plot.bar(ax=ax)\n",
    "        ax.set_xticklabels(['<15%', '15%-19.9%', '20%-24.9%','25%-29.9%','30%-34.9%','>35%','>50%'], rotation=90)\n",
    "    else:\n",
    "        hous_ratio[n].sum().plot.bar(ax=ax)\n",
    "        ax.set_xticklabels(['<15%', '15%-19.9%', '20%-24.9%','25%-29.9%','>30%','>50%'], rotation=90)\n",
    "\n",
    "    ax.set_title(title_year[n])"
   ]
  },
  {
   "cell_type": "markdown",
   "id": "8fe4dc43",
   "metadata": {},
   "source": [
    "Before analyzing the income, it was considered relevant to check also the percentage of the salary that people spend on their rent. The above plot illustrates this information from 2017 to 2021. It can be seen that for all the years, monthly rent accounts for more than 30% of an individual's monthly income, explaining why maybe some are refusing to pay their rent, followed by evictions."
   ]
  },
  {
   "cell_type": "markdown",
   "id": "869a1554",
   "metadata": {},
   "source": [
    "### Economic Data"
   ]
  },
  {
   "cell_type": "code",
   "execution_count": null,
   "id": "4e686d4b",
   "metadata": {},
   "outputs": [],
   "source": [
    "econ_17 = pd.read_excel('economic_data/econ_2017_acs5yr_nta.xlsx')\n",
    "econ_18 = pd.read_excel('economic_data/econ_2018_acs5yr_nta.xlsx')\n",
    "econ_19 = pd.read_excel('economic_data/econ_2019_acs5yr_nta.xlsx')\n",
    "econ_20 = pd.read_excel('economic_data/econ_2020_acs5yr_nta.xlsx')\n",
    "econ_21 = pd.read_excel('economic_data/econ_2021_acs5yr_nta.xlsx')"
   ]
  },
  {
   "cell_type": "code",
   "execution_count": null,
   "id": "632a0bce",
   "metadata": {},
   "outputs": [],
   "source": [
    "econ_17['year'] = 2017\n",
    "econ_18['year'] = 2018\n",
    "econ_19['year'] = 2019\n",
    "econ_20['year'] = 2020\n",
    "econ_21['year'] = 2021"
   ]
  },
  {
   "cell_type": "code",
   "execution_count": null,
   "id": "1939abf7",
   "metadata": {},
   "outputs": [],
   "source": [
    "econ17 = econ_17[['year','GeoName','MnHHIncE']]\n",
    "econ18 = econ_18[['year','GeogName','MnHHIncE']]\n",
    "econ19 = econ_19[['year','GeoName','MnHHIncE']]\n",
    "econ20 = econ_20[['year','GeoName','MnHHIncE']]\n",
    "econ21 = econ_21[['year','GeogName','MnHHIncE']]"
   ]
  },
  {
   "cell_type": "code",
   "execution_count": null,
   "id": "5fbee8d6",
   "metadata": {},
   "outputs": [],
   "source": [
    "economic_data = pd.concat([econ17, econ18, econ19, econ20, econ21], axis=0)\n",
    "economic_data"
   ]
  },
  {
   "cell_type": "code",
   "execution_count": null,
   "id": "b15cd8cc",
   "metadata": {},
   "outputs": [],
   "source": [
    "economic_data = economic_data.dropna(subset=['MnHHIncE'])\n",
    "economic_data"
   ]
  },
  {
   "cell_type": "code",
   "execution_count": null,
   "id": "b6478960",
   "metadata": {},
   "outputs": [],
   "source": [
    "x_axisss = [economic_data.groupby(['year'])['MnHHIncE'].mean().iloc[0], economic_data.groupby(['year'])['MnHHIncE'].mean().iloc[1], economic_data.groupby(['year'])['MnHHIncE'].mean().iloc[2], economic_data.groupby(['year'])['MnHHIncE'].mean().iloc[3], economic_data.groupby(['year'])['MnHHIncE'].mean().iloc[4]]"
   ]
  },
  {
   "cell_type": "code",
   "execution_count": null,
   "id": "297fe83b",
   "metadata": {},
   "outputs": [],
   "source": [
    "economic_data.groupby(['year'])['MnHHIncE'].mean().plot.bar(y='MnHHIncE', x='year')\n",
    "plt.plot(x_axisss, marker='*', color='black', ms=10)\n",
    "plt.ylabel('Mean House Income')\n",
    "plt.show()"
   ]
  },
  {
   "cell_type": "markdown",
   "id": "ae9eef64",
   "metadata": {},
   "source": [
    "In our search for the annual household income, we found out that its mean value is increasing over the years. These findings come along with the rent prices that are increasing as well, and they also justify the decreasing occurences in evictions. A reasonable interpretation of the above two plots would be that since the income increases, the rent prices go up and thus a steady economic situation is retained with people paying their rent."
   ]
  },
  {
   "cell_type": "code",
   "execution_count": null,
   "id": "6e5c966a",
   "metadata": {},
   "outputs": [],
   "source": [
    "economic_data.boxplot(column=['MnHHIncE'], by='year')\n",
    "plt.xticks(rotation=90);"
   ]
  },
  {
   "cell_type": "markdown",
   "id": "5149129b",
   "metadata": {},
   "source": [
    "### EMPLOYMENT STATUS"
   ]
  },
  {
   "cell_type": "code",
   "execution_count": null,
   "id": "b4cc0dc2",
   "metadata": {},
   "outputs": [],
   "source": [
    "Unemployed_ratio_2017 = econ_17['CvLFUEm1E'].sum() / econ_17['CvLF1E'].sum()\n",
    "Unemployed_ratio_2018 = econ_18['CvLFUEm1E'].sum() / econ_18['CvLF1E'].sum()\n",
    "Unemployed_ratio_2019 = econ_19['CvLFUEm1E'].sum() / econ_19['CvLF1E'].sum()\n",
    "Unemployed_ratio_2020 = econ_20['CvLFUEm1E'].sum() / econ_20['CvLF1E'].sum()\n",
    "Unemployed_ratio_2021 = econ_21['CvLFUEm1E'].sum() / econ_21['CvLF1E'].sum()\n",
    "Unemployed_ratio = [Unemployed_ratio_2017*100, Unemployed_ratio_2018*100, Unemployed_ratio_2019*100, Unemployed_ratio_2020*100, Unemployed_ratio_2021*100]"
   ]
  },
  {
   "cell_type": "code",
   "execution_count": null,
   "id": "eced2a6d",
   "metadata": {},
   "outputs": [],
   "source": [
    "plt.bar(title_year, Unemployed_ratio)\n",
    "plt.plot(Unemployed_ratio, marker='*', color='black', ms=10)\n",
    "plt.xlabel('Years')\n",
    "plt.ylabel('Unemployment Rate %')\n",
    "plt.show()"
   ]
  },
  {
   "cell_type": "markdown",
   "id": "a7fae54a",
   "metadata": {},
   "source": [
    "At this point, it makes sense to relate eviction incidents with the unemployment status of the city. In particular, from the supplementary dataset, the total unemployment percentage rate was calculated and plotted against the examined period. It is evident that unemployment in the city of New York is decreasing until 2019, while the outburst of COVID-19 in 2020 boosts the rates. The decrease in unemployment also justifies the downward trend of the evictions in the respective years."
   ]
  },
  {
   "cell_type": "markdown",
   "id": "0f1e7692",
   "metadata": {},
   "source": [
    "### Demographic Data"
   ]
  },
  {
   "cell_type": "code",
   "execution_count": null,
   "id": "e67ce6ef",
   "metadata": {},
   "outputs": [],
   "source": [
    "dem2017 = pd.read_excel('demographic_data\\demo_2017_acs5yr_nta.xlsx')\n",
    "dem2018 = pd.read_excel('demographic_data\\demo_2018_acs5yr_nta.xlsx')\n",
    "dem2019 = pd.read_excel('demographic_data\\demo_2019_acs5yr_nta.xlsx')\n",
    "dem2020 = pd.read_excel('demographic_data\\demo_2020_acs5yr_nta.xlsx')\n",
    "dem2021 = pd.read_excel('demographic_data\\demo_2021_acs5yr_nta.xlsx')"
   ]
  },
  {
   "cell_type": "code",
   "execution_count": null,
   "id": "aa1837eb",
   "metadata": {},
   "outputs": [],
   "source": [
    "dem_2017 = dem2017[[\"Hsp1E\", \"NHspE\", \"WtNHE\", \"BlNHE\", \"AIANNHE\", \"AsnNHE\", \"NHPINHE\", \"OthNHE\", \"Rc2plNHE\"]]\n",
    "dem_2018 = dem2018[[\"Hsp1E\", \"NHspE\", \"WtNHE\", \"BlNHE\", \"AIANNHE\", \"AsnNHE\", \"NHPINHE\", \"OthNHE\", \"Rc2plNHE\"]]\n",
    "dem_2019 = dem2019[[\"Hsp1E\", \"NHspE\", \"WtNHE\", \"BlNHE\", \"AIANNHE\", \"AsnNHE\", \"NHPINHE\", \"OthNHE\", \"Rc2plNHE\"]]\n",
    "dem_2020 = dem2020[[\"Hsp1E\", \"NHspE\", \"WtNHE\", \"BlNHE\", \"AIANNHE\", \"AsnNHE\", \"NHPINHE\", \"OthNHE\", \"Rc2plNHE\"]]\n",
    "dem_2021 = dem2021[[\"Hsp1E\", \"NHspE\", \"WtNHE\", \"BlNHE\", \"AIANNHE\", \"AsnNHE\", \"NHPINHE\", \"OthNHE\", \"Rc2plNHE\"]]\n",
    "demo_all = [dem_2017, dem_2018, dem_2019, dem_2020, dem_2021]"
   ]
  },
  {
   "cell_type": "code",
   "execution_count": null,
   "id": "ad5f90df",
   "metadata": {},
   "outputs": [],
   "source": [
    "plt.figure(figsize=(20, 15))\n",
    "plt.subplots_adjust(wspace=0.3)\n",
    "plt.subplots_adjust(hspace=0.6)\n",
    "title_year =['2017','2018','2019','2020','2021']\n",
    "\n",
    "for n, category in enumerate(demo_all):\n",
    "    ax = plt.subplot(2, 3, n + 1)\n",
    "    demo_all[n].sum().plot.bar(ax=ax)\n",
    "    ax.set_xticklabels(['Latino', 'Not Latino', 'White alone','Black alone','American Indian','Asian alone','Pacific Islander alone','Other race','Two or more races'], rotation=90)\n",
    "\n",
    "    ax.set_title(title_year[n])"
   ]
  },
  {
   "cell_type": "code",
   "execution_count": null,
   "id": "b80b5d68",
   "metadata": {},
   "outputs": [],
   "source": [
    "dem_2017_borough = dem2017.groupby(\"Borough\")[[\"Hsp1E\", \"NHspE\", \"WtNHE\", \"BlNHE\", \"AIANNHE\", \"AsnNHE\", \"NHPINHE\", \"OthNHE\", \"Rc2plNHE\"]].sum()\n",
    "dem_2017_borough.rename(columns = {'Hsp1E':'Latino', 'NHspE':'Not Latino', 'WtNHE':'White', 'BlNHE':'Black', 'AIANNHE':'American Indian', 'AsnNHE':'Asian alone', 'NHPINHE':'Pacific Islander alone', 'OthNHE':'Other race', 'Rc2plNHE':'Two or more races'}, inplace = True)\n",
    "\n",
    "dem_2018_borough = dem2018.groupby(\"Borough\")[[\"Hsp1E\", \"NHspE\", \"WtNHE\", \"BlNHE\", \"AIANNHE\", \"AsnNHE\", \"NHPINHE\", \"OthNHE\", \"Rc2plNHE\"]].sum()\n",
    "dem_2018_borough.rename(columns = {'Hsp1E':'Latino', 'NHspE':'Not Latino', 'WtNHE':'White', 'BlNHE':'Black', 'AIANNHE':'American Indian', 'AsnNHE':'Asian alone', 'NHPINHE':'Pacific Islander alone', 'OthNHE':'Other race', 'Rc2plNHE':'Two or more races'}, inplace = True)\n",
    "\n",
    "\n",
    "dem_2019_borough = dem2019.groupby(\"Borough\")[[\"Hsp1E\", \"NHspE\", \"WtNHE\", \"BlNHE\", \"AIANNHE\", \"AsnNHE\", \"NHPINHE\", \"OthNHE\", \"Rc2plNHE\"]].sum()\n",
    "dem_2019_borough.rename(columns = {'Hsp1E':'Latino', 'NHspE':'Not Latino', 'WtNHE':'White', 'BlNHE':'Black', 'AIANNHE':'American Indian', 'AsnNHE':'Asian alone', 'NHPINHE':'Pacific Islander alone', 'OthNHE':'Other race', 'Rc2plNHE':'Two or more races'}, inplace = True)\n",
    "\n",
    "\n",
    "dem_2020_borough = dem2020.groupby(\"Borough\")[[\"Hsp1E\", \"NHspE\", \"WtNHE\", \"BlNHE\", \"AIANNHE\", \"AsnNHE\", \"NHPINHE\", \"OthNHE\", \"Rc2plNHE\"]].sum()\n",
    "dem_2020_borough.rename(columns = {'Hsp1E':'Latino', 'NHspE':'Not Latino', 'WtNHE':'White', 'BlNHE':'Black', 'AIANNHE':'American Indian', 'AsnNHE':'Asian alone', 'NHPINHE':'Pacific Islander alone', 'OthNHE':'Other race', 'Rc2plNHE':'Two or more races'}, inplace = True)\n",
    "\n",
    "\n",
    "dem_2021_borough = dem2021.groupby(\"Borough\")[[\"Hsp1E\", \"NHspE\", \"WtNHE\", \"BlNHE\", \"AIANNHE\", \"AsnNHE\", \"NHPINHE\", \"OthNHE\", \"Rc2plNHE\"]].sum()\n",
    "dem_2021_borough.rename(columns = {'Hsp1E':'Latino', 'NHspE':'Not Latino', 'WtNHE':'White', 'BlNHE':'Black', 'AIANNHE':'American Indian', 'AsnNHE':'Asian alone', 'NHPINHE':'Pacific Islander alone', 'OthNHE':'Other race', 'Rc2plNHE':'Two or more races'}, inplace = True)\n",
    "\n",
    "dem_borough_all = [dem_2017_borough, dem_2018_borough, dem_2019_borough, dem_2020_borough, dem_2021_borough]"
   ]
  },
  {
   "cell_type": "markdown",
   "id": "93a9fe79",
   "metadata": {},
   "source": [
    "### By Borough"
   ]
  },
  {
   "cell_type": "code",
   "execution_count": null,
   "id": "bc90bfe6",
   "metadata": {},
   "outputs": [],
   "source": [
    "plt.figure(figsize=(20, 15))\n",
    "plt.subplots_adjust(wspace=0.8)\n",
    "plt.subplots_adjust(hspace=0.4)\n",
    "title_year =['2017','2018','2019','2020','2021']\n",
    "\n",
    "for n, category in enumerate(dem_borough_all):\n",
    "    ax = plt.subplot(2, 3, n + 1)\n",
    "    dem_borough_all[n].plot.bar(ax=ax)\n",
    "    # Put a legend to the right of the current axis\n",
    "    ax.legend(loc='center left', bbox_to_anchor=(1, 0.75))\n",
    "    ax.set_title(title_year[n])"
   ]
  },
  {
   "cell_type": "code",
   "execution_count": null,
   "id": "07ab5e52",
   "metadata": {},
   "outputs": [],
   "source": [
    "dem_borough_total_pop = [dem2017.groupby(\"Borough\")['Pop_1E'].sum(), dem2018.groupby(\"Borough\")['Pop_1E'].sum(), dem2019.groupby(\"Borough\")['Pop_1E'].sum(), dem2020.groupby(\"Borough\")['Pop_1E'].sum(), dem2021.groupby(\"Borough\")['Pop_1E'].sum()]"
   ]
  },
  {
   "cell_type": "code",
   "execution_count": null,
   "id": "28986431",
   "metadata": {},
   "outputs": [],
   "source": [
    "plt.figure(figsize=(20, 15))\n",
    "plt.subplots_adjust(wspace=0.8)\n",
    "plt.subplots_adjust(hspace=0.4)\n",
    "title_year =['2017','2018','2019','2020','2021']\n",
    "\n",
    "for n, category in enumerate(dem_borough_total_pop):\n",
    "    ax = plt.subplot(2, 3, n + 1)\n",
    "    dem_borough_total_pop[n].plot.bar(ax=ax)\n",
    "    # Put a legend to the right of the current axis\n",
    "    #ax.legend(loc='center left', bbox_to_anchor=(1, 0.75))\n",
    "    ax.set_title(title_year[n])"
   ]
  },
  {
   "cell_type": "code",
   "execution_count": null,
   "id": "bacfb97a",
   "metadata": {},
   "outputs": [],
   "source": []
  }
 ],
 "metadata": {
  "kernelspec": {
   "display_name": "Python 3 (ipykernel)",
   "language": "python",
   "name": "python3"
  },
  "language_info": {
   "codemirror_mode": {
    "name": "ipython",
    "version": 3
   },
   "file_extension": ".py",
   "mimetype": "text/x-python",
   "name": "python",
   "nbconvert_exporter": "python",
   "pygments_lexer": "ipython3",
   "version": "3.9.12"
  }
 },
 "nbformat": 4,
 "nbformat_minor": 5
}
